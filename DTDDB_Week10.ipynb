{
 "cells": [
  {
   "cell_type": "markdown",
   "id": "c066527a",
   "metadata": {},
   "source": [
    "# DTDDB Session 10 assignment\n",
    "\n",
    "As always,\n",
    "\n",
    "## ☠ Please read the instructions carefully: ☠\n",
    "\n",
    "### - Your task is to complete this mandatory exercise, \n",
    "### - then save the .ipynb file and upload it to https://eksamen.cbs.dk/\n",
    "### - The deadline is Monday the 11th at 12:30\n",
    "### - Grading is pass OR fail\n",
    "### - You should answer all the questions by\n",
    "#### - a) providing the correct Python code\n",
    "#### - b) explaining (❗) the code you have written in your own words (either as markdown or comment)\n",
    "### - Answers that are not your own (plagiarised) will lead to an automatic fail\n",
    "### - You may work in groups but your submissions must be individual, i.e. you each have to provide a functioning .ipynb file with YOUR writing and explanation\n",
    "### - If you get stuck, move to the next question - perhaps it will help you solve an earlier one.\n",
    "### - ☢ Read the instructions for each task carefully! ☢\n",
    "\n",
    "\n",
    "# 1) An inordinate fondness for bugs ✨/5\n",
    "\n",
    "![bugs](https://i.ytimg.com/vi/NDaTlUBJScQ/maxresdefault.jpg)\n",
    "\n",
    "We'll start with some casual de-bugging. \n",
    "\n",
    "🔵 **Fix this code, and write a short explanation in-line, of what the problems were:**\n",
    "\n",
    "## 1.1 (2 points)\n",
    "This code snippet takes in the name of a bug as user input and if it is in the list of scary bugs, in this case spiders and mosquitos, prints a scared message. If not, it prints that the bug is cute."
   ]
  },
  {
   "cell_type": "code",
   "execution_count": null,
   "id": "d3835e37",
   "metadata": {},
   "outputs": [],
   "source": [
    "bug = input(\"Give me the name of a bug: \")\n",
    "if bug in [\"spider\",\"mosquito\"]:\n",
    "    print(\"Aaaaah!!!!!\")\n",
    "elif\n",
    "print(\"Oh, a cute bug!\")"
   ]
  },
  {
   "cell_type": "markdown",
   "id": "476a0e2e",
   "metadata": {},
   "source": [
    "## 1.2 (2 points)\n",
    "This program calculats the BMI (https://en.wikipedia.org/wiki/Body_mass_index) of a list of people given their height and weight. "
   ]
  },
  {
   "cell_type": "code",
   "execution_count": null,
   "id": "a68642f2",
   "metadata": {},
   "outputs": [],
   "source": [
    "people = [[50, 1.8], [80, 2.2], [145, 1.7]]\n",
    "\n",
    "def bmi(weight, height):\n",
    "    return(weight / (height ** 2))\n",
    "\n",
    "for person in people:\n",
    "    weight, height = people[0]\n",
    "    person_bmi = bmi(height, weight)\n",
    "    print(\"BMI: \"+str(person_bmi))"
   ]
  },
  {
   "cell_type": "markdown",
   "id": "c9bdae2b",
   "metadata": {},
   "source": [
    "## 1.3 For each of the examples above, were the bugs *overt* or *covert*? What does this mean? (1 point)"
   ]
  },
  {
   "cell_type": "markdown",
   "id": "83a47914-65cf-4af2-b8c5-7faa72f17a34",
   "metadata": {},
   "source": []
  },
  {
   "cell_type": "markdown",
   "id": "d82e1fb5-b493-43f9-868c-61252254a1af",
   "metadata": {
    "jupyter": {
     "source_hidden": true
    },
    "tags": []
   },
   "source": [
    "🔺 _ / 5 - "
   ]
  },
  {
   "cell_type": "markdown",
   "id": "64aee127",
   "metadata": {},
   "source": [
    "# 2) Errata ✨/5\n",
    "\n",
    "Error messages in python are quite informative compared to other programming languages. It is always good to google the error message to get an idea of its meaning - often, other people have had the same problem as you."
   ]
  },
  {
   "cell_type": "markdown",
   "id": "a095d37d",
   "metadata": {},
   "source": [
    "### (a) Explain the following error message, and fix it. 1 point"
   ]
  },
  {
   "cell_type": "code",
   "execution_count": null,
   "id": "e4cd585b",
   "metadata": {},
   "outputs": [],
   "source": [
    "number1=input(\"Give me a number: \")\n",
    "\n",
    "print(number1+4)"
   ]
  },
  {
   "cell_type": "markdown",
   "id": "7eaedf2b",
   "metadata": {},
   "source": [
    "### (b) Explain the following error message. 1 point"
   ]
  },
  {
   "cell_type": "code",
   "execution_count": null,
   "id": "91c022d2",
   "metadata": {},
   "outputs": [],
   "source": [
    "int(\"Digital Technologies\")"
   ]
  },
  {
   "cell_type": "markdown",
   "id": "0be23286",
   "metadata": {},
   "source": [
    "### (c) Produce a NameError. 1 point"
   ]
  },
  {
   "cell_type": "markdown",
   "id": "f71319dc",
   "metadata": {},
   "source": [
    "### (d) Produce a KeyError. 1 point"
   ]
  },
  {
   "cell_type": "markdown",
   "id": "4602f9af",
   "metadata": {},
   "source": [
    "### (e) Produce an Index Error. 1 point"
   ]
  },
  {
   "cell_type": "markdown",
   "id": "267e3744-3bea-4242-a6ba-679b58267897",
   "metadata": {
    "jupyter": {
     "source_hidden": true
    },
    "tags": []
   },
   "source": [
    "🔺 _ / 5 - "
   ]
  },
  {
   "cell_type": "markdown",
   "id": "81dfd1a6",
   "metadata": {},
   "source": [
    "# 3) Trying really hard ✨/10\n",
    "\n",
    "Python does not like dividing by zero. For example, try out the following code with b as zero:"
   ]
  },
  {
   "cell_type": "code",
   "execution_count": null,
   "id": "0a97b47c",
   "metadata": {},
   "outputs": [],
   "source": [
    "a = int(input(\"Enter value of a: \"))\n",
    "b = int(input(\"Enter value of b: \"))\n",
    "c = a/b\n",
    "print(\"a divided by b: \", c)"
   ]
  },
  {
   "cell_type": "markdown",
   "id": "aea99bf4",
   "metadata": {},
   "source": [
    "In this sort of situation we can use a **try** statement. \n",
    "\n",
    "In one of these, python **tries** to execute some code and if it throws an error it will skip that block. \n",
    "\n",
    "We can also add an **except**. If there is an except after the try, python will execute the **except** part once the try fails, and hopefully not crash. \n",
    "\n",
    "These look something like this:"
   ]
  },
  {
   "cell_type": "code",
   "execution_count": null,
   "id": "2dc1b840",
   "metadata": {},
   "outputs": [],
   "source": [
    "try:\n",
    "    # something which might crash.\n",
    "except:\n",
    "    # something which you execute if the try crashes."
   ]
  },
  {
   "cell_type": "markdown",
   "id": "ea2c4c80",
   "metadata": {},
   "source": [
    "Often, a block of code may result in several different kinds of errors and you may want to use a different except statement for each of these. \n",
    "\n",
    "You can due this by naming specific errors, for example:"
   ]
  },
  {
   "cell_type": "code",
   "execution_count": null,
   "id": "c412c518",
   "metadata": {},
   "outputs": [],
   "source": [
    "try:\n",
    "    # something which might crash.\n",
    "except NameError:\n",
    "    # something which you execute if the try crashes and raises a NameError."
   ]
  },
  {
   "cell_type": "markdown",
   "id": "7e01f292",
   "metadata": {},
   "source": [
    "## 3.1 Fix the code above, so that it:\n",
    "* can catch division by zero and print the message \"Cannot divide by zero!\".\n",
    "* does not crash if the user inputs something which is not a number (like \"Hello!\"). If the user does this, the program should print the message (\"Value is wrong.\").\n",
    "\n",
    "### (5 points)\n",
    "\n",
    "Don't forget to explain your code! (Most of the points on this exercise will be awarded for your explanation.)"
   ]
  },
  {
   "cell_type": "code",
   "execution_count": null,
   "id": "d633d339",
   "metadata": {},
   "outputs": [],
   "source": []
  },
  {
   "cell_type": "markdown",
   "id": "d435ea45-76b7-4f9e-b315-0980e8a841b3",
   "metadata": {
    "jupyter": {
     "source_hidden": true
    },
    "tags": []
   },
   "source": [
    "🔺 _ / 5 - "
   ]
  },
  {
   "cell_type": "markdown",
   "id": "d580cf84",
   "metadata": {},
   "source": [
    "The last building block is the **finally** statement. As the name implies, a finally statement will always excecute, regardless of the try-except items above it. \n",
    "\n",
    "## 3.2 Using a finally statement, write a program which:\n",
    "\n",
    "* takes a user input of an index, and prints the corresponding item in the list `lst`.\n",
    "* if the index supplied is not a number, the program prints \"Not a possible index. Taking first item in list.\", and prints the first item.\n",
    "* if the index supplied is larger than the extent of the list, it prints \"Index too high. Taking last item in list.\", and prints the last item. \n",
    "\n",
    "### (5 points)"
   ]
  },
  {
   "cell_type": "code",
   "execution_count": null,
   "id": "177f5e6f",
   "metadata": {},
   "outputs": [],
   "source": [
    "lst=[1,4,6,3,5]\n",
    "\n",
    "index=int(input(\"Index: \"))\n",
    "item=lst[index]\n",
    "print(f\"Item number {index}: {item}\")"
   ]
  },
  {
   "cell_type": "code",
   "execution_count": null,
   "id": "66538ec2",
   "metadata": {},
   "outputs": [],
   "source": []
  },
  {
   "cell_type": "markdown",
   "id": "b0edda43-6310-4642-a1a1-9906f0ab2e00",
   "metadata": {
    "jupyter": {
     "source_hidden": true
    },
    "tags": []
   },
   "source": [
    "🔺 _ / 5 - "
   ]
  },
  {
   "cell_type": "markdown",
   "id": "1aa98a77",
   "metadata": {},
   "source": [
    "Total: /20 "
   ]
  }
 ],
 "metadata": {
  "kernelspec": {
   "display_name": "Python 3 (ipykernel)",
   "language": "python",
   "name": "python3"
  },
  "language_info": {
   "codemirror_mode": {
    "name": "ipython",
    "version": 3
   },
   "file_extension": ".py",
   "mimetype": "text/x-python",
   "name": "python",
   "nbconvert_exporter": "python",
   "pygments_lexer": "ipython3",
   "version": "3.8.12"
  }
 },
 "nbformat": 4,
 "nbformat_minor": 5
}
