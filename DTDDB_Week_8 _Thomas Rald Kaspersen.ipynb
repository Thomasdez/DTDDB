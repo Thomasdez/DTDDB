{
 "cells": [
  {
   "cell_type": "markdown",
   "id": "002f7b6f",
   "metadata": {},
   "source": [
    "# DTDDB Session 8 assignment\n",
    "\n",
    "This assignment is all about lists, dictionaries and sets. \n",
    "\n",
    "![](https://media.newyorker.com/photos/598b5ff619b7717e06731c63/1:1/w_1469,h_1469,c_limit/Batuman-Time-Travelling-with-Merriam-Websters-Dictionary.jpg)\n",
    "\n",
    "As per usual:\n",
    "\n",
    "## ☠ Please read the instructions carefully: ☠\n",
    "\n",
    "### - Your task is to complete this mandatory exercise, \n",
    "### - then save the .ipynb file and upload it to https://eksamen.cbs.dk/\n",
    "### - The deadline is Monday the 4th at 12:30\n",
    "### - Grading is pass OR fail\n",
    "### - You should answer all the questions by\n",
    "#### - a) providing the correct Python code\n",
    "#### - b) explaining (❗) the code you have written in your own words (either as markdown or comment)\n",
    "### - Answers that are not your own (plagiarised) will lead to an automatic fail\n",
    "### - You may work in groups but your submissions must be individual, i.e. you each have to provide a functioning .ipynb file with YOUR writing and explanation\n",
    "### - If you get stuck, move to the next question - perhaps it will help you solve an earlier one.\n",
    "### - ☢ Read the instructions for each task carefully! ☢\n",
    "\n",
    "## Task 1: Scary Lists\n",
    "\n",
    "**Let's warm up with an exercise on lists. We have a list called 'scary', which contains some scary monsters:**"
   ]
  },
  {
   "cell_type": "code",
   "execution_count": 96,
   "id": "788292e8",
   "metadata": {},
   "outputs": [],
   "source": [
    "scary = ['werewolf','vampire','ghost','zombie']"
   ]
  },
  {
   "cell_type": "markdown",
   "id": "73ef3f7a",
   "metadata": {},
   "source": [
    "### 1.1 (3 points)\n",
    "\n",
    "**Write a function that iterates through a list, and replaces each letter \"o\" with \"oo\", and each \"e\" with \"ee\".** "
   ]
  },
  {
   "cell_type": "code",
   "execution_count": 100,
   "id": "2969854d",
   "metadata": {},
   "outputs": [
    {
     "data": {
      "text/plain": [
       "['weereewoolf', 'vampiree', 'ghoost', 'zoombiee']"
      ]
     },
     "execution_count": 100,
     "metadata": {},
     "output_type": "execute_result"
    }
   ],
   "source": [
    "def replaced_string(x): #first i define my function\n",
    "    new_list=[] #i then create a new list which will be the return of my function\n",
    "    for i in x: #i the create a for loop which iterates for every i in x\n",
    "        new_list.append(i.replace('o','oo').replace('e','ee')) #i then make the for loop do the given replacements\n",
    "                                                               # the append method is to ad the the replacements to the list\n",
    "                                                                # and the replace method then does the replacements\n",
    "    return new_list #then i make the function return \n",
    "#finnaly i call the function by assigning x the values of the list scary\n",
    "replaced_string(scary)\n",
    "    "
   ]
  },
  {
   "cell_type": "markdown",
   "id": "d2b794c4",
   "metadata": {},
   "source": [
    "### 2.2 (2 points)\n",
    "\n",
    "**Now apply this function to \"scary\" twice, and use the print statement to print the results.**"
   ]
  },
  {
   "cell_type": "code",
   "execution_count": 14,
   "id": "573e8164",
   "metadata": {},
   "outputs": [
    {
     "name": "stdout",
     "output_type": "stream",
     "text": [
      "Help, I'm being chased by a weeeereeeewoooolf!!!\n",
      "Help, I'm being chased by a vampireeee!!!\n",
      "Help, I'm being chased by a ghoooost!!!\n",
      "Help, I'm being chased by a zoooombieeee!!!\n"
     ]
    }
   ],
   "source": [
    "\"\"\"first i make a loop that itterates for i twice by writing or range(2) \"\"\"\n",
    "for i in range (2):\n",
    "\"\"\"I then make the loop assign the value of the function from task 2.1 to the list scary \"\"\"   \n",
    "    scary=replaced_string(scary)\n",
    "\"\"\"I then make a for loop which prits out the wanted statement for each of the new values of the list scary\"\"\"\n",
    "for monster in scary:\n",
    "    print(f\"Help, I'm being chased by a {monster}!!!\")"
   ]
  },
  {
   "cell_type": "markdown",
   "id": "120b3be8",
   "metadata": {},
   "source": [
    "## Task 2: cute Biology"
   ]
  },
  {
   "cell_type": "markdown",
   "id": "6be774c5",
   "metadata": {},
   "source": [
    "Suppose we have two lists of animals, and a list containing both of these (a nested list):"
   ]
  },
  {
   "cell_type": "code",
   "execution_count": 52,
   "id": "713a8bd1",
   "metadata": {},
   "outputs": [],
   "source": [
    "mammals=['rhino','dog','pony','mouse']\n",
    "invertebrates=['octopus','starfish','spider']\n",
    "animals=[mammals,invertebrates] # include both in a nested list."
   ]
  },
  {
   "cell_type": "markdown",
   "id": "dd6f3e98",
   "metadata": {},
   "source": [
    "Nested lists sometimes get annoying, so it's good to think about how to deal with them."
   ]
  },
  {
   "cell_type": "markdown",
   "id": "17f497f6",
   "metadata": {},
   "source": [
    "### 2.1 (5 points)\n",
    "**Your first task is to unpack this list of lists into a single list of animals. First, do this without list comprehension, and then with list comprehension.**\n",
    "\n",
    "List comprehension is often a more elegant and concise way to generate lists. For a guide, you may want to look at https://www.geeksforgeeks.org/python-list-comprehension/."
   ]
  },
  {
   "cell_type": "code",
   "execution_count": 10,
   "id": "bc478c99",
   "metadata": {},
   "outputs": [
    {
     "name": "stdout",
     "output_type": "stream",
     "text": [
      "['rhino', 'dog', 'pony', 'mouse', 'octopus', 'starfish', 'spider']\n"
     ]
    }
   ],
   "source": [
    "\"\"\"First i name the unpacked list\"\"\"\n",
    "unpacked_list=[]\n",
    "\"\"\"then i make a for loop that iterrates for all i items in the list animals\"\"\"\n",
    "for i in animals:\n",
    "\"\"\"then i make a for loop in the for loop that itterrates for all x items in i (since the two items in i will be the two lists\n",
    "mammals and inverterbrates)\"\"\"\n",
    "    for x in i:\n",
    "\"\"\"i then make the code add the items it finds for x in i to the new unpacked list\"\"\"\n",
    "        unpacked_list.append(x)\n",
    "    \n",
    "print(unpacked_list)\n",
    "\n"
   ]
  },
  {
   "cell_type": "code",
   "execution_count": 91,
   "id": "71c92f34",
   "metadata": {},
   "outputs": [
    {
     "name": "stdout",
     "output_type": "stream",
     "text": [
      "['rhino', 'dog', 'pony', 'mouse', 'octopus', 'starfish', 'spider']\n"
     ]
    }
   ],
   "source": [
    "\"\"\"i make a list comprehention which first finds the items in the list animals and then finds all x items\n",
    "in the two lists mammals and inverterbrates to make a uncpacked version of the list animals\"\"\"\n",
    "com_unpacked_list = [x for x in animals for x in x]\n",
    "print(com_unpacked_list)"
   ]
  },
  {
   "cell_type": "markdown",
   "id": "25c745b9",
   "metadata": {},
   "source": [
    "### 2.2 (1 point)\n",
    "**Make a tuple of the animals in these lists which you consider 'cute'.**"
   ]
  },
  {
   "cell_type": "code",
   "execution_count": 19,
   "id": "72284d2c",
   "metadata": {},
   "outputs": [
    {
     "name": "stdout",
     "output_type": "stream",
     "text": [
      "('dog', 'pony', 'mouse')\n"
     ]
    }
   ],
   "source": [
    "\"\"\" I create a tuple by using () insted of [] and then write the name of the animals i think is cute as strings woth ('')\"\"\"\n",
    "cute=('dog', 'pony', 'mouse')\n",
    "print(cute)"
   ]
  },
  {
   "cell_type": "markdown",
   "id": "2e669c8a",
   "metadata": {},
   "source": [
    "### 2.3 (1 point)\n",
    "\n",
    "I think worms are cute. Look at this one!\n",
    "\n",
    "![](https://www.treehugger.com/thmb/YbfAQ8wKqVksd8dQZCLERTZsA0E=/400x250/filters:no_upscale():max_bytes(150000):strip_icc()/__opt__aboutcom__coeus__resources__content_migration__mnn__images__2018__07__Papilio_troilus_larva-1647beeb80bb4a5e8fc26413858a1cf9.jpg)\n",
    "\n",
    "So, I want to add it to your cute tuple.\n",
    "\n",
    "**Why does the code below not work?**"
   ]
  },
  {
   "cell_type": "code",
   "execution_count": 21,
   "id": "2c8e163b",
   "metadata": {},
   "outputs": [
    {
     "ename": "AttributeError",
     "evalue": "'tuple' object has no attribute 'append'",
     "output_type": "error",
     "traceback": [
      "\u001b[1;31m---------------------------------------------------------------------------\u001b[0m",
      "\u001b[1;31mAttributeError\u001b[0m                            Traceback (most recent call last)",
      "\u001b[1;32m<ipython-input-21-6eb6ed96cbed>\u001b[0m in \u001b[0;36m<module>\u001b[1;34m\u001b[0m\n\u001b[1;32m----> 1\u001b[1;33m \u001b[0mcute\u001b[0m\u001b[1;33m.\u001b[0m\u001b[0mappend\u001b[0m\u001b[1;33m(\u001b[0m\u001b[1;34m\"worm\"\u001b[0m\u001b[1;33m)\u001b[0m\u001b[1;33m\u001b[0m\u001b[1;33m\u001b[0m\u001b[0m\n\u001b[0m",
      "\u001b[1;31mAttributeError\u001b[0m: 'tuple' object has no attribute 'append'"
     ]
    }
   ],
   "source": [
    "#tuples are immutable and it is for that reason not possible to to add strings with the append method\n",
    "cute.append(\"worm\")"
   ]
  },
  {
   "cell_type": "markdown",
   "id": "293fcb84",
   "metadata": {},
   "source": [
    "## Task 3: a zoo in a dictionary"
   ]
  },
  {
   "cell_type": "markdown",
   "id": "857fc860",
   "metadata": {},
   "source": [
    "Now, I will make a dictionary. Dictionaries in python hold key:value pairs, and are enclosed by curly brackets. "
   ]
  },
  {
   "cell_type": "code",
   "execution_count": 23,
   "id": "f3cee52e",
   "metadata": {},
   "outputs": [],
   "source": [
    "numlegs={\n",
    "    \"bear\":4,\n",
    "    \"chicken\":2,\n",
    "    \"fish\":0,\n",
    "    \"pony\":4,\n",
    "    \"rhino\":4,\n",
    "    \"mouse\":4,\n",
    "    \"turtle\":4,\n",
    "    \"ant\":6,\n",
    "    \"starfish\":5,\n",
    "    \"spider\":18,\n",
    "    \"crab\":6\n",
    "}"
   ]
  },
  {
   "cell_type": "markdown",
   "id": "8d8c56be",
   "metadata": {},
   "source": [
    "Dictionaries in python are:\n",
    "  * Mutable\n",
    "     **Mutable means that is is possible to manipulate with the items in the dictionary with (ex. adding stuff with append)**\n",
    "  * Ordered (but only in Python 3.7 and after)\n",
    "      **Ordered means that the items in a dictionary is in a certain order which can not be chanched**\n",
    "  * Do not allow duplicates\n",
    "      **There can not be two of the same items within a dictionaty**\n",
    "      \n",
    "  \n",
    "### 3.1 (3 points)\n",
    "\n",
    "**Explain what the terms above mean (you may illustrate your points with code).**"
   ]
  },
  {
   "cell_type": "markdown",
   "id": "7583ec61",
   "metadata": {},
   "source": [
    "### 3.2 (1 point)\n",
    "\n",
    "**I have made an error somewhere (hint: spiders have eight legs!). Can you fix it?**"
   ]
  },
  {
   "cell_type": "code",
   "execution_count": 25,
   "id": "064a3eff",
   "metadata": {},
   "outputs": [
    {
     "name": "stdout",
     "output_type": "stream",
     "text": [
      "{'bear': 4, 'chicken': 2, 'fish': 0, 'pony': 4, 'rhino': 4, 'mouse': 4, 'turtle': 4, 'ant': 6, 'starfish': 5, 'spider': 8, 'crab': 6}\n"
     ]
    }
   ],
   "source": [
    "\"\"\" I simply write the name of the dict and then they key i wanna change the value off in brackets and set that equal to\n",
    "8 to change the error\"\"\"\n",
    "numlegs['spider']=8\n",
    "\"\"\"I then print out the dict to see if the error has been corrected\"\"\"\n",
    "print(numlegs)"
   ]
  },
  {
   "cell_type": "markdown",
   "id": "e5a556b6",
   "metadata": {},
   "source": [
    "### 3.3 (10 points)\n",
    "**I have one of each animal in the dictionary. How many feet are there in total?** (1 point)"
   ]
  },
  {
   "cell_type": "code",
   "execution_count": 90,
   "id": "8a696dda",
   "metadata": {},
   "outputs": [
    {
     "name": "stdout",
     "output_type": "stream",
     "text": [
      "there would bee 47 feet in total if you had one of each animal\n"
     ]
    }
   ],
   "source": [
    "\"\"\"First i use the mehod **values()** to get all the values from the dictionary. I then put the method inside the sum\n",
    "function to get the total number of feet if you have one of each animal in the dict\"\"\"\n",
    "feet = sum(numlegs.values())\n",
    "print('there would bee', feet,'feet in total if you had one of each animal')"
   ]
  },
  {
   "cell_type": "markdown",
   "id": "25623609",
   "metadata": {},
   "source": [
    "**How many pairs of shoes do I need for 5 mice, 12 ants and two chicken?** (1 point)"
   ]
  },
  {
   "cell_type": "code",
   "execution_count": 89,
   "id": "0aaf18b0",
   "metadata": {},
   "outputs": [
    {
     "name": "stdout",
     "output_type": "stream",
     "text": [
      "you would need 48.0 pairs of shoes\n"
     ]
    }
   ],
   "source": [
    "\"\"\"I make a calculation which takes the value from a given key in the dictionay (by using the get method) then\n",
    "i multiply the value with the number of that animal given in the assignment. And to finish it off i devide the total number\n",
    "of shoes to get it in pairs\"\"\"\n",
    "shoepairs =((numlegs.get('mouse'))*5+(numlegs.get('ant'))*12+(numlegs.get('chicken'))*2)/2\n",
    "print('you would need', shoepairs, 'pairs of shoes')"
   ]
  },
  {
   "cell_type": "markdown",
   "id": "c17785c0",
   "metadata": {},
   "source": [
    "**Now write a script that calculates the mean number of legs of 'cute' animals.** (2 points)"
   ]
  },
  {
   "cell_type": "code",
   "execution_count": 44,
   "id": "50dad532",
   "metadata": {},
   "outputs": [
    {
     "name": "stdout",
     "output_type": "stream",
     "text": [
      "4\n"
     ]
    }
   ],
   "source": [
    "\"\"\"first i make the dictionary of the animals i find cute\"\"\"\n",
    "cute_animals={\n",
    "    'mouse':4,\n",
    "    'dog': 4,\n",
    "    'pony': 4,\n",
    "}\n",
    "\n",
    "\"\"\"then i import statistics to be able to calculate the mean\"\"\"\n",
    "import statistics\n",
    "\"\"\"finnaly i use the mean function to calculate the mean of the animals i find cute\"\"\"\n",
    "print(statistics.mean(cute_animals.values()))"
   ]
  },
  {
   "cell_type": "markdown",
   "id": "20cfb1bb",
   "metadata": {},
   "source": [
    "**Which animals have odd numbers of legs?** (2 points)"
   ]
  },
  {
   "cell_type": "code",
   "execution_count": 49,
   "id": "59d7c11f",
   "metadata": {},
   "outputs": [
    {
     "name": "stdout",
     "output_type": "stream",
     "text": [
      "starfish\n"
     ]
    }
   ],
   "source": [
    "\"\"\"first i create a for loop that cheks the keys(x) in the dict numlegs\"\"\"\n",
    "for x in numlegs:\n",
    "\"\"\"then i create an if stement which sates that the value of a key can't be modular with 2. In other words,\n",
    "i ask the code only to print the keys which values which when devided by to comes out as a float\"\"\"\n",
    "    if (numlegs.get(x))%2 !=0:\n",
    "\"\"\"finnaly i make the code print x in the loop to get all animals with an odd number of leggs\"\"\"\n",
    "        print (x)"
   ]
  },
  {
   "cell_type": "markdown",
   "id": "6fdb673c",
   "metadata": {},
   "source": [
    "**Which animal has the most legs?** (2 points)"
   ]
  },
  {
   "cell_type": "code",
   "execution_count": 51,
   "id": "6a50ca7a",
   "metadata": {},
   "outputs": [
    {
     "name": "stdout",
     "output_type": "stream",
     "text": [
      "spider\n"
     ]
    }
   ],
   "source": [
    "\"\"\"I use the max function and ask it to find the key in the dict numlegs with the highest value. I make the key equal\n",
    "to the value of the key by making an anonymous funtion using lambda which looks for values in the dict numlegs\n",
    "the max function written in the biginning of the code makes the output the key with the highest value\"\"\"\n",
    "print(max(numlegs, key= lambda x:numlegs[x]))"
   ]
  },
  {
   "cell_type": "markdown",
   "id": "5065e948",
   "metadata": {},
   "source": [
    "**Give me the animals that have four legs and are mammals.** (2 points)\n",
    "Hint: you can use list comprehension to do this!"
   ]
  },
  {
   "cell_type": "code",
   "execution_count": 64,
   "id": "8b7ac1ac",
   "metadata": {},
   "outputs": [
    {
     "name": "stdout",
     "output_type": "stream",
     "text": [
      "['pony', 'rhino', 'mouse']\n"
     ]
    }
   ],
   "source": [
    "\"\"\"My list comprehention starts of chekking for all values in the list **animals** that is also presents as keys in the dict\n",
    "**numlegs** then it states to make the new list **fourlegged_animals** if the value of the key is four and finally it cheks\n",
    "if the animals in the dict numlegs are pressent in the list **mammals\"\"\"\n",
    "fourlegged_mammals = [animals for animals in numlegs if numlegs[animals] ==4\n",
    "                     if animals in mammals]\n",
    "\n",
    "\"\"\"i then make the code print out my new list of four legged mammals\"\"\"\n",
    "print(fourlegged_mammals)"
   ]
  },
  {
   "cell_type": "markdown",
   "id": "ede84f4c",
   "metadata": {},
   "source": [
    "### 3.4 (3 points)\n",
    "\n",
    "**Invert the dictionary, so that the keys are the numbers of legs, and the values are the animals with those numbers of legs.**"
   ]
  },
  {
   "cell_type": "code",
   "execution_count": 69,
   "id": "15ecb64a",
   "metadata": {},
   "outputs": [
    {
     "data": {
      "text/plain": [
       "{4: ['bear', 'pony', 'rhino', 'mouse', 'turtle'],\n",
       " 2: ['chicken'],\n",
       " 0: ['fish'],\n",
       " 6: ['ant', 'crab'],\n",
       " 5: ['starfish'],\n",
       " 8: ['spider']}"
      ]
     },
     "execution_count": 69,
     "metadata": {},
     "output_type": "execute_result"
    }
   ],
   "source": [
    "\"\"\"first a new dictionary is created\"\"\"\n",
    "newlegs={}\n",
    "\n",
    "\"\"\"the a for loop is created which itterates for each animal/key and legs/value in the dictionary\"\"\"\n",
    "for animal, legs in numlegs.items(): \n",
    "\"\"\"i then make the loop which first take the values of our first dictionaries and  makes the the key to the now one.\n",
    "I then make the code get the values (which is assigned as **legs** in the for loop and place them in the new dictionary,\n",
    "and then add the keys (or as assigned by the for loop animal) from the numb_legs as the new values)\"\"\"\n",
    "    newlegs[legs]=newlegs.get(legs, []) + [animal]  \n",
    "\"\"\"finnaly i type the name of the dictionary to make the code type out the dictionarry as output\"\"\"    \n",
    "newlegs\n",
    "       "
   ]
  },
  {
   "cell_type": "markdown",
   "id": "06cc2aec",
   "metadata": {},
   "source": [
    "### 3.4 (6 points)\n",
    "\n",
    "**Let's make a list of all the animals mentioned so far. To do this, please fix the code below so that it works, and explain what the error was.** (3 points)"
   ]
  },
  {
   "cell_type": "code",
   "execution_count": 78,
   "id": "30637e0d",
   "metadata": {},
   "outputs": [
    {
     "name": "stdout",
     "output_type": "stream",
     "text": [
      "['rhino', 'dog', 'pony', 'mouse', 'octopus', 'starfish', 'spider', 'bear', 'chicken', 'fish', 'pony', 'rhino', 'mouse', 'turtle', 'ant', 'starfish', 'spider', 'crab']\n"
     ]
    }
   ],
   "source": [
    "\"\"\"it is not possible to add dict keys' to a list. Only other lists or stings\n",
    "can be concatenated\"\"\"\n",
    "#all_animals=mammals+invertebrates+numlegs.keys()\n",
    "\n",
    "\"\"\"to get the wanted list i sart of by adding the combined list that i made\n",
    " in task 2.1, as this will give me the first 7 animals we have worked with\"\"\"\n",
    "all_animals = [animal for i in animals for animal in i]\n",
    "\n",
    "\"\"\"Then i make a for loop which adds all keys from the dict **numlegs** to the list by using the append method. This makes\n",
    "it possible for me to add keys from a dict to a list\"\"\"\n",
    "for key in numlegs.keys():\n",
    "    all_animals.append(key)\n",
    "\"\"\" Finaly i print out the list of all the animals we have worked with\"\"\"\n",
    "print(all_animals)"
   ]
  },
  {
   "cell_type": "markdown",
   "id": "249663bc",
   "metadata": {},
   "source": [
    "**Now convert this list into a set. Then, explain three differences between the list and the set (you may illustrate them by writing code snippets).** (3 points)"
   ]
  },
  {
   "cell_type": "code",
   "execution_count": 81,
   "id": "24be045a",
   "metadata": {},
   "outputs": [
    {
     "name": "stdout",
     "output_type": "stream",
     "text": [
      "{'spider', 'fish', 'mouse', 'bear', 'starfish', 'chicken', 'ant', 'octopus', 'rhino', 'crab', 'pony', 'turtle', 'dog'}\n"
     ]
    }
   ],
   "source": [
    "\"\"\"first i define a varibale that i named **animal_set** as a set \"\"\"\n",
    "animal_set=set()\n",
    "\n",
    "\"\"\"Then i create a for loop in wich all items in the list from the task befor **all_animals** is added to the new set.\n",
    "To do this a use the set.add() method. This method the add's \"\"\"\n",
    "for item in all_animals:\n",
    "    animal_set.add(item)\n",
    "    \n",
    "\"\"\"Finnaly i print out the new set\"\"\"\n",
    "print(animal_set)"
   ]
  },
  {
   "cell_type": "markdown",
   "id": "f55d81a6",
   "metadata": {},
   "source": [
    "TOTAL: /35"
   ]
  }
 ],
 "metadata": {
  "kernelspec": {
   "display_name": "Python 3",
   "language": "python",
   "name": "python3"
  },
  "language_info": {
   "codemirror_mode": {
    "name": "ipython",
    "version": 3
   },
   "file_extension": ".py",
   "mimetype": "text/x-python",
   "name": "python",
   "nbconvert_exporter": "python",
   "pygments_lexer": "ipython3",
   "version": "3.8.8"
  }
 },
 "nbformat": 4,
 "nbformat_minor": 5
}
