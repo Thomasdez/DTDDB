{
 "cells": [
  {
   "cell_type": "markdown",
   "id": "c066527a",
   "metadata": {},
   "source": [
    "# DTDDB Session 10 assignment\n",
    "\n",
    "As always,\n",
    "\n",
    "## ☠ Please read the instructions carefully: ☠\n",
    "\n",
    "### - Your task is to complete this mandatory exercise, \n",
    "### - then save the .ipynb file and upload it to https://eksamen.cbs.dk/\n",
    "### - The deadline is Monday the 11th at 12:30\n",
    "### - Grading is pass OR fail\n",
    "### - You should answer all the questions by\n",
    "#### - a) providing the correct Python code\n",
    "#### - b) explaining (❗) the code you have written in your own words (either as markdown or comment)\n",
    "### - Answers that are not your own (plagiarised) will lead to an automatic fail\n",
    "### - You may work in groups but your submissions must be individual, i.e. you each have to provide a functioning .ipynb file with YOUR writing and explanation\n",
    "### - If you get stuck, move to the next question - perhaps it will help you solve an earlier one.\n",
    "### - ☢ Read the instructions for each task carefully! ☢\n",
    "\n",
    "\n",
    "# 1) An inordinate fondness for bugs ✨/5\n",
    "\n",
    "![bugs](https://i.ytimg.com/vi/NDaTlUBJScQ/maxresdefault.jpg)\n",
    "\n",
    "We'll start with some casual de-bugging. \n",
    "\n",
    "🔵 **Fix this code, and write a short explanation in-line, of what the problems were:**\n",
    "\n",
    "## 1.1 (2 points)\n",
    "This code snippet takes in the name of a bug as user input and if it is in the list of scary bugs, in this case spiders and mosquitos, prints a scared message. If not, it prints that the bug is cute."
   ]
  },
  {
   "cell_type": "code",
   "execution_count": 10,
   "id": "d3835e37",
   "metadata": {},
   "outputs": [
    {
     "ename": "SyntaxError",
     "evalue": "invalid syntax (<ipython-input-10-f533d071f616>, line 4)",
     "output_type": "error",
     "traceback": [
      "\u001b[1;36m  File \u001b[1;32m\"<ipython-input-10-f533d071f616>\"\u001b[1;36m, line \u001b[1;32m4\u001b[0m\n\u001b[1;33m    elif\u001b[0m\n\u001b[1;37m        ^\u001b[0m\n\u001b[1;31mSyntaxError\u001b[0m\u001b[1;31m:\u001b[0m invalid syntax\n"
     ]
    }
   ],
   "source": [
    "bug = input(\"Give me the name of a bug: \")\n",
    "if bug in [\"spider\",\"mosquito\"]:\n",
    "    print(\"Aaaaah!!!!!\")\n",
    "elif \"\"\"an elif statement needs a condition and should end with a \":\" to show that it is a part of the loop\"\"\"\n",
    "    print(\"Oh, a cute bug!\")"
   ]
  },
  {
   "cell_type": "code",
   "execution_count": null,
   "id": "8fd61b2c",
   "metadata": {},
   "outputs": [],
   "source": [
    "bug = input(\"Give me the name of a bug: \")\n",
    "if bug in [\"spider\",\"mosquito\"]:\n",
    "    print(\"Aaaaah!!!!!\")\n",
    "else:\"\"\"I swap the \"elif\" statement with an else because the code doesn't need another statement to work, and then i add a \":\"\n",
    "to make it part of the loop\"\"\"\n",
    "    print(\"Oh, a cute bug!\")"
   ]
  },
  {
   "cell_type": "markdown",
   "id": "476a0e2e",
   "metadata": {},
   "source": [
    "## 1.2 (2 points)\n",
    "This program calculats the BMI (https://en.wikipedia.org/wiki/Body_mass_index) of a list of people given their height and weight. "
   ]
  },
  {
   "cell_type": "code",
   "execution_count": 155,
   "id": "a68642f2",
   "metadata": {},
   "outputs": [
    {
     "name": "stdout",
     "output_type": "stream",
     "text": [
      "BMI: 0.00072\n",
      "15.432098765432098\n",
      "BMI: 0.00072\n",
      "15.432098765432098\n",
      "BMI: 0.00072\n",
      "15.432098765432098\n"
     ]
    }
   ],
   "source": [
    "people = [[50, 1.8], [80, 2.2], [145, 1.7]]\n",
    "\n",
    "def bmi(weight, height):\n",
    "    return(weight / (height ** 2))\n",
    "\"\"\"The big problem with this loop is first of all that it uses the same values for weight and hight all the time. However, it\n",
    "also looks like the function to calculate BMI is used to define a variable within the for loop which ends up calculating \n",
    "way to small numbers\"\"\"\n",
    "for person in people:\n",
    "\"\"\"Here the for loop makes the value of weight and height to be constantly equal to index 0 of the list\"\"\"\n",
    "    weight, height = people[0]\n",
    "\"\"\"Here the for loop  assigns some randome variable the value of the bmi function. This makes the function run everytime\n",
    "the loop runs which makes the values to small\"\"\"    \n",
    "    person_bmi = bmi(height, weight)\n",
    "\n",
    "    \n",
    "#I have made my own version of the code below    \n",
    "    \n",
    "    \n",
    "    print(\"BMI: \"+str(person_bmi))\n",
    "    print(bmi(weight, height))\n"
   ]
  },
  {
   "cell_type": "code",
   "execution_count": 184,
   "id": "ee9ddab1",
   "metadata": {},
   "outputs": [
    {
     "name": "stdout",
     "output_type": "stream",
     "text": [
      "BMI: 15.432098765432098\n",
      "BMI: 16.52892561983471\n",
      "BMI: 50.17301038062284\n"
     ]
    }
   ],
   "source": [
    "people = [[50, 1.8], [80, 2.2], [145, 1.7]]\n",
    "\"\"\"The function is defind as before\"\"\"\n",
    "def bmi(weight, height):\n",
    "    return(weight / (height ** 2))\n",
    "\n",
    "\"\"\"I changed the loop to count i values in the range of the lenght of the list 'people'. The for loop then\n",
    "assigns weight and height the value of each item in the list\"\"\" \n",
    "for i in range(len(people)):\n",
    "    weight, height = people[i]\n",
    "\"I then make the function print out the the result of the function with the given values which now are correct\"\n",
    "    print(\"BMI: \" + str(bmi(weight, height)))\n"
   ]
  },
  {
   "cell_type": "markdown",
   "id": "c9bdae2b",
   "metadata": {},
   "source": [
    "## 1.3 For each of the examples above, were the bugs *overt* or *covert*? What does this mean? (1 point)"
   ]
  },
  {
   "cell_type": "markdown",
   "id": "83a47914-65cf-4af2-b8c5-7faa72f17a34",
   "metadata": {},
   "source": [
    "##### - Task 1.1 is an overt bug since it just crashes because of a SyntaxError\n",
    "##### - Task 1.2 is an covert bug since it runs complete but returns an incorrect answer"
   ]
  },
  {
   "cell_type": "markdown",
   "id": "d82e1fb5-b493-43f9-868c-61252254a1af",
   "metadata": {
    "jupyter": {
     "source_hidden": true
    },
    "tags": []
   },
   "source": [
    "🔺 _ / 5 - "
   ]
  },
  {
   "cell_type": "markdown",
   "id": "64aee127",
   "metadata": {},
   "source": [
    "# 2) Errata ✨/5\n",
    "\n",
    "Error messages in python are quite informative compared to other programming languages. It is always good to google the error message to get an idea of its meaning - often, other people have had the same problem as you."
   ]
  },
  {
   "cell_type": "markdown",
   "id": "a095d37d",
   "metadata": {},
   "source": [
    "### (a) Explain the following error message, and fix it. 1 point"
   ]
  },
  {
   "cell_type": "code",
   "execution_count": 64,
   "id": "e4cd585b",
   "metadata": {},
   "outputs": [
    {
     "name": "stdout",
     "output_type": "stream",
     "text": [
      "Give me a number: 2\n"
     ]
    },
    {
     "ename": "TypeError",
     "evalue": "can only concatenate str (not \"int\") to str",
     "output_type": "error",
     "traceback": [
      "\u001b[1;31m---------------------------------------------------------------------------\u001b[0m",
      "\u001b[1;31mTypeError\u001b[0m                                 Traceback (most recent call last)",
      "\u001b[1;32m<ipython-input-64-81e9fcab25ee>\u001b[0m in \u001b[0;36m<module>\u001b[1;34m\u001b[0m\n\u001b[0;32m      1\u001b[0m \u001b[0mnumber1\u001b[0m\u001b[1;33m=\u001b[0m\u001b[0minput\u001b[0m\u001b[1;33m(\u001b[0m\u001b[1;34m\"Give me a number: \"\u001b[0m\u001b[1;33m)\u001b[0m\u001b[1;33m\u001b[0m\u001b[1;33m\u001b[0m\u001b[0m\n\u001b[0;32m      2\u001b[0m \u001b[1;33m\u001b[0m\u001b[0m\n\u001b[1;32m----> 3\u001b[1;33m \u001b[0mprint\u001b[0m\u001b[1;33m(\u001b[0m\u001b[0mnumber1\u001b[0m\u001b[1;33m+\u001b[0m\u001b[1;36m4\u001b[0m\u001b[1;33m)\u001b[0m\u001b[1;33m\u001b[0m\u001b[1;33m\u001b[0m\u001b[0m\n\u001b[0m",
      "\u001b[1;31mTypeError\u001b[0m: can only concatenate str (not \"int\") to str"
     ]
    }
   ],
   "source": [
    "number1=input(\"Give me a number: \")\n",
    "\n",
    "print(number1+4)\n",
    "\"\"\"you cannot add a string to an int you have to convert the srting input into a int for the program to make the calculation\"\"\""
   ]
  },
  {
   "cell_type": "code",
   "execution_count": 69,
   "id": "1b81a682",
   "metadata": {},
   "outputs": [
    {
     "name": "stdout",
     "output_type": "stream",
     "text": [
      "Give me a number: 8\n",
      "12\n"
     ]
    }
   ],
   "source": [
    "number1=input(\"Give me a number: \")\n",
    "\"\"\"here is my fixed version where i use int() to convert the inpiut into an int\"\"\"\n",
    "print(int(number1)+ 4)"
   ]
  },
  {
   "cell_type": "markdown",
   "id": "7eaedf2b",
   "metadata": {},
   "source": [
    "### (b) Explain the following error message. 1 point"
   ]
  },
  {
   "cell_type": "code",
   "execution_count": 73,
   "id": "91c022d2",
   "metadata": {},
   "outputs": [
    {
     "ename": "ValueError",
     "evalue": "invalid literal for int() with base 10: 'Digital Technologies'",
     "output_type": "error",
     "traceback": [
      "\u001b[1;31m---------------------------------------------------------------------------\u001b[0m",
      "\u001b[1;31mValueError\u001b[0m                                Traceback (most recent call last)",
      "\u001b[1;32m<ipython-input-73-7352086e92cf>\u001b[0m in \u001b[0;36m<module>\u001b[1;34m\u001b[0m\n\u001b[1;32m----> 1\u001b[1;33m \u001b[0mint\u001b[0m\u001b[1;33m(\u001b[0m\u001b[1;34m\"Digital Technologies\"\u001b[0m\u001b[1;33m)\u001b[0m\u001b[1;33m\u001b[0m\u001b[1;33m\u001b[0m\u001b[0m\n\u001b[0m",
      "\u001b[1;31mValueError\u001b[0m: invalid literal for int() with base 10: 'Digital Technologies'"
     ]
    }
   ],
   "source": [
    "int(\"Digital Technologies\")"
   ]
  },
  {
   "cell_type": "markdown",
   "id": "0be23286",
   "metadata": {},
   "source": [
    "### (c) Produce a NameError. 1 point"
   ]
  },
  {
   "cell_type": "code",
   "execution_count": 76,
   "id": "c0dc2a0b",
   "metadata": {},
   "outputs": [
    {
     "ename": "NameError",
     "evalue": "name 'dave' is not defined",
     "output_type": "error",
     "traceback": [
      "\u001b[1;31m---------------------------------------------------------------------------\u001b[0m",
      "\u001b[1;31mNameError\u001b[0m                                 Traceback (most recent call last)",
      "\u001b[1;32m<ipython-input-76-f6be42e3e991>\u001b[0m in \u001b[0;36m<module>\u001b[1;34m\u001b[0m\n\u001b[1;32m----> 1\u001b[1;33m \u001b[0mdave\u001b[0m\u001b[1;33m\u001b[0m\u001b[1;33m\u001b[0m\u001b[0m\n\u001b[0m\u001b[0;32m      2\u001b[0m \u001b[1;33m\u001b[0m\u001b[0m\n\u001b[0;32m      3\u001b[0m \u001b[0mprint\u001b[0m\u001b[1;33m(\u001b[0m\u001b[0mdave\u001b[0m\u001b[1;33m)\u001b[0m\u001b[1;33m\u001b[0m\u001b[1;33m\u001b[0m\u001b[0m\n",
      "\u001b[1;31mNameError\u001b[0m: name 'dave' is not defined"
     ]
    }
   ],
   "source": [
    "\"\"\"In this example i have written dave as the name of a variable but not assigned it any value which creates the NameError\"\"\"\n",
    "dave\n",
    "\n",
    "print(dave)"
   ]
  },
  {
   "cell_type": "markdown",
   "id": "f71319dc",
   "metadata": {},
   "source": [
    "### (d) Produce a KeyError. 1 point"
   ]
  },
  {
   "cell_type": "code",
   "execution_count": 80,
   "id": "7a6736be",
   "metadata": {},
   "outputs": [
    {
     "ename": "KeyError",
     "evalue": "'Benti'",
     "output_type": "error",
     "traceback": [
      "\u001b[1;31m---------------------------------------------------------------------------\u001b[0m",
      "\u001b[1;31mKeyError\u001b[0m                                  Traceback (most recent call last)",
      "\u001b[1;32m<ipython-input-80-112200740321>\u001b[0m in \u001b[0;36m<module>\u001b[1;34m\u001b[0m\n\u001b[0;32m      3\u001b[0m \"\"\"Then i call for the age off my dog \"Benti\" but becaue i have forgotten to write her name in the dict will a KeyError show up\n\u001b[0;32m      4\u001b[0m \"\"\"\n\u001b[1;32m----> 5\u001b[1;33m \u001b[0mfamily\u001b[0m\u001b[1;33m[\u001b[0m\u001b[1;34m'Benti'\u001b[0m\u001b[1;33m]\u001b[0m\u001b[1;33m\u001b[0m\u001b[1;33m\u001b[0m\u001b[0m\n\u001b[0m",
      "\u001b[1;31mKeyError\u001b[0m: 'Benti'"
     ]
    }
   ],
   "source": [
    "\"\"\"I produce my KeyError by making a dictionarry of my beautifull familly and their ages\"\"\"\n",
    "family={'Lars':52, 'Louise': 19, 'Henriette': 57}\n",
    "\"\"\"Then i call for the age off my dog \"Benti\" but becaue i have forgotten to write her name in the dict will a KeyError show up\n",
    "\"\"\"\n",
    "family['Benti']"
   ]
  },
  {
   "cell_type": "markdown",
   "id": "4602f9af",
   "metadata": {},
   "source": [
    "### (e) Produce an Index Error. 1 point"
   ]
  },
  {
   "cell_type": "code",
   "execution_count": 86,
   "id": "b4be9b50",
   "metadata": {},
   "outputs": [
    {
     "ename": "IndexError",
     "evalue": "list index out of range",
     "output_type": "error",
     "traceback": [
      "\u001b[1;31m---------------------------------------------------------------------------\u001b[0m",
      "\u001b[1;31mIndexError\u001b[0m                                Traceback (most recent call last)",
      "\u001b[1;32m<ipython-input-86-47f5eb9fe820>\u001b[0m in \u001b[0;36m<module>\u001b[1;34m\u001b[0m\n\u001b[0;32m      1\u001b[0m \u001b[0mlist_of_things\u001b[0m\u001b[1;33m=\u001b[0m\u001b[1;33m[\u001b[0m\u001b[1;34m'monkey'\u001b[0m\u001b[1;33m,\u001b[0m \u001b[1;34m'rubber duck'\u001b[0m\u001b[1;33m,\u001b[0m \u001b[1;34m'ball'\u001b[0m\u001b[1;33m]\u001b[0m\u001b[1;33m\u001b[0m\u001b[1;33m\u001b[0m\u001b[0m\n\u001b[1;32m----> 2\u001b[1;33m \u001b[0mprint\u001b[0m\u001b[1;33m(\u001b[0m\u001b[0mlist_of_things\u001b[0m\u001b[1;33m[\u001b[0m\u001b[1;36m3\u001b[0m\u001b[1;33m]\u001b[0m\u001b[1;33m)\u001b[0m\u001b[1;33m\u001b[0m\u001b[1;33m\u001b[0m\u001b[0m\n\u001b[0m",
      "\u001b[1;31mIndexError\u001b[0m: list index out of range"
     ]
    }
   ],
   "source": [
    "\"\"\"I start of by making a list of randome things\"\"\"\n",
    "list_of_things=['monkey', 'rubber duck', 'ball']\n",
    "\"\"\"Finaly i print out the 3rd element in the list, but since the list only has 3 elements and python always counts\n",
    "from 0 will the result be an IndexError\"\"\"\n",
    "print(list_of_things[3])"
   ]
  },
  {
   "cell_type": "markdown",
   "id": "267e3744-3bea-4242-a6ba-679b58267897",
   "metadata": {
    "jupyter": {
     "source_hidden": true
    },
    "tags": []
   },
   "source": [
    "🔺 _ / 5 - "
   ]
  },
  {
   "cell_type": "markdown",
   "id": "81dfd1a6",
   "metadata": {},
   "source": [
    "# 3) Trying really hard ✨/10\n",
    "\n",
    "Python does not like dividing by zero. For example, try out the following code with b as zero:"
   ]
  },
  {
   "cell_type": "code",
   "execution_count": 90,
   "id": "0a97b47c",
   "metadata": {},
   "outputs": [
    {
     "name": "stdout",
     "output_type": "stream",
     "text": [
      "Enter value of a: 4\n",
      "Enter value of b: 8\n",
      "a divided by b:  0.5\n"
     ]
    }
   ],
   "source": [
    "a = int(input(\"Enter value of a: \"))\n",
    "b = int(input(\"Enter value of b: \"))\n",
    "c = a/b\n",
    "print(\"a divided by b: \", c)"
   ]
  },
  {
   "cell_type": "markdown",
   "id": "aea99bf4",
   "metadata": {},
   "source": [
    "In this sort of situation we can use a **try** statement. \n",
    "\n",
    "In one of these, python **tries** to execute some code and if it throws an error it will skip that block. \n",
    "\n",
    "We can also add an **except**. If there is an except after the try, python will execute the **except** part once the try fails, and hopefully not crash. \n",
    "\n",
    "These look something like this:"
   ]
  },
  {
   "cell_type": "code",
   "execution_count": null,
   "id": "2dc1b840",
   "metadata": {},
   "outputs": [],
   "source": [
    "try:\n",
    "    # something which might crash.\n",
    "except:\n",
    "    # something which you execute if the try crashes."
   ]
  },
  {
   "cell_type": "markdown",
   "id": "ea2c4c80",
   "metadata": {},
   "source": [
    "Often, a block of code may result in several different kinds of errors and you may want to use a different except statement for each of these. \n",
    "\n",
    "You can due this by naming specific errors, for example:"
   ]
  },
  {
   "cell_type": "code",
   "execution_count": null,
   "id": "c412c518",
   "metadata": {},
   "outputs": [],
   "source": [
    "try:\n",
    "    # something which might crash.\n",
    "except NameError:\n",
    "    # something which you execute if the try crashes and raises a NameError."
   ]
  },
  {
   "cell_type": "markdown",
   "id": "7e01f292",
   "metadata": {},
   "source": [
    "## 3.1 Fix the code above, so that it:\n",
    "* can catch division by zero and print the message \"Cannot divide by zero!\".\n",
    "* does not crash if the user inputs something which is not a number (like \"Hello!\"). If the user does this, the program should print the message (\"Value is wrong.\").\n",
    "\n",
    "### (5 points)\n",
    "\n",
    "Don't forget to explain your code! (Most of the points on this exercise will be awarded for your explanation.)"
   ]
  },
  {
   "cell_type": "code",
   "execution_count": 200,
   "id": "d633d339",
   "metadata": {},
   "outputs": [
    {
     "name": "stdout",
     "output_type": "stream",
     "text": [
      "Enter value of a: 8\n",
      "Enter value of b: 8\n",
      "a divided by b:  1.0\n"
     ]
    }
   ],
   "source": [
    "\"\"\"First write the try-except mechanism in the input section of the code to catch any ValueErrors.\"\"\"\n",
    "try:\n",
    "    a = int(input(\"Enter value of a: \"))\n",
    "    b = int(input(\"Enter value of b: \"))\n",
    "except ValueError:\n",
    "    \"\"\"I ask the code to print 'Value is wrong' if a ValueError occurs\"\"\"\n",
    "    print('Value is wrong')\n",
    "    \n",
    "\"\"\"I create a try-except mechanism To catch any ZerroDivisionError\"\"\"    \n",
    "try:\n",
    "    c = a/b\n",
    "    print(\"a divided by b: \", c)\n",
    "except ZeroDivisionError:\n",
    "    \"\"\"If a ZerroDivisionError occurs the the program writes the wanted string\"\"\"\n",
    "    print(\"Cannot divide by zero!\")\n"
   ]
  },
  {
   "cell_type": "markdown",
   "id": "d435ea45-76b7-4f9e-b315-0980e8a841b3",
   "metadata": {
    "jupyter": {
     "source_hidden": true
    },
    "tags": []
   },
   "source": [
    "🔺 _ / 5 - "
   ]
  },
  {
   "cell_type": "markdown",
   "id": "d580cf84",
   "metadata": {},
   "source": [
    "The last building block is the **finally** statement. As the name implies, a finally statement will always excecute, regardless of the try-except items above it. \n",
    "\n",
    "## 3.2 Using a finally statement, write a program which:\n",
    "\n",
    "* takes a user input of an index, and prints the corresponding item in the list `lst`.\n",
    "* if the index supplied is not a number, the program prints \"Not a possible index. Taking first item in list.\", and prints the first item.\n",
    "* if the index supplied is larger than the extent of the list, it prints \"Index too high. Taking last item in list.\", and prints the last item. \n",
    "\n",
    "### (5 points)"
   ]
  },
  {
   "cell_type": "code",
   "execution_count": 199,
   "id": "177f5e6f",
   "metadata": {},
   "outputs": [
    {
     "name": "stdout",
     "output_type": "stream",
     "text": [
      "Index: 2\n",
      "Item number 2: 6\n",
      "have a good day\n"
     ]
    }
   ],
   "source": [
    "\n",
    "lst=[1,4,6,3,5] \n",
    "\n",
    "#First i write the try mechanism to make the code try the given code. if the code runs smooth it will print wanted statement\n",
    "\n",
    "try:\n",
    "    index=int(input(\"Index: \"))\n",
    "    item=lst[index]\n",
    "    print(f\"Item number {index}: {item}\")\n",
    "\n",
    "#Then i write an except mechanism which prints a certain statement if a ValueError occurs    \n",
    "except ValueError:\n",
    "    print(\"Not a possible index. Taking first item in list. \" + str(lst[0])) \n",
    "\n",
    "#Then i write an except mechanism which prints a certain statement if a IndexError occurs        \n",
    "except IndexError:\n",
    "    print( \"Index too high. Taking last item in list. \" + str(lst[0]))\n",
    "\n",
    "#Finally i write a finally mechanism to have the code write have a good day every time no matter what    \n",
    "finally:\n",
    "    print(\"have a good day\")\n",
    "    \n",
    "# I choose to make this addition to the code since i found it unclear what exactly i were to do with it in the task\n",
    "# How ever i still wanted to show that i know how it works"
   ]
  },
  {
   "cell_type": "code",
   "execution_count": null,
   "id": "66538ec2",
   "metadata": {},
   "outputs": [],
   "source": []
  },
  {
   "cell_type": "markdown",
   "id": "b0edda43-6310-4642-a1a1-9906f0ab2e00",
   "metadata": {
    "jupyter": {
     "source_hidden": true
    },
    "tags": []
   },
   "source": [
    "🔺 _ / 5 - "
   ]
  },
  {
   "cell_type": "markdown",
   "id": "1aa98a77",
   "metadata": {},
   "source": [
    "Total: /20 "
   ]
  }
 ],
 "metadata": {
  "kernelspec": {
   "display_name": "Python 3",
   "language": "python",
   "name": "python3"
  },
  "language_info": {
   "codemirror_mode": {
    "name": "ipython",
    "version": 3
   },
   "file_extension": ".py",
   "mimetype": "text/x-python",
   "name": "python",
   "nbconvert_exporter": "python",
   "pygments_lexer": "ipython3",
   "version": "3.8.8"
  }
 },
 "nbformat": 4,
 "nbformat_minor": 5
}
