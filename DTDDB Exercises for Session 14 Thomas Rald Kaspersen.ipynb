{
 "cells": [
  {
   "cell_type": "markdown",
   "metadata": {},
   "source": [
    "# DTDDB Session 14 assignment\n",
    "\n",
    "This assignment focuses on the Wines Dataset and creating your own descriptive statistics function. \n",
    "\n",
    "## ☠ Please read the instructions carefully: ☠\n",
    "\n",
    ">Your task is to complete this mandatory exercise, \n",
    ">\n",
    ">then save the .ipynb file and upload it to https://eksamen.cbs.dk/\n",
    ">\n",
    ">The deadline is Monday the 1st at 12:30\n",
    ">\n",
    ">Grading is pass OR fail\n",
    ">\n",
    ">You should answer all the questions by\n",
    ">\n",
    "> a) providing the correct Python code\n",
    ">\n",
    "> b) explaining (❗) the code you have written in your own words (either as markdown or comment)\n",
    ">\n",
    "> Answers that are not your own (plagiarised) will lead to an automatic fail\n",
    ">\n",
    ">You may work in groups but your submissions must be individual, i.e. you each have to provide a functioning .ipynb file with YOUR writing and explanation\n",
    ">\n",
    ">If you get stuck, move to the next question - perhaps it will help you solve an earlier one.\n",
    ">\n",
    ">☢ Read the instructions for each task carefully! ☢"
   ]
  },
  {
   "cell_type": "markdown",
   "metadata": {},
   "source": [
    "Importing all necessary Python libraries\n",
    "A good practice is to use the first cell of your file to import the libraries that you will use throughout the exercise. Use the cell below to import all the libraries you use in today's exercise. Import **pandas** and name it **pd**. Import **sklearn**. Import **numpy** as **np**."
   ]
  },
  {
   "cell_type": "code",
   "execution_count": 2,
   "metadata": {},
   "outputs": [],
   "source": [
    "# Your import statements go here\n",
    "import pandas as pd\n",
    "import sklearn \n",
    "import numpy as np"
   ]
  },
  {
   "cell_type": "code",
   "execution_count": 4,
   "metadata": {},
   "outputs": [
    {
     "name": "stdout",
     "output_type": "stream",
     "text": [
      "<class 'pandas.core.frame.DataFrame'>\n",
      "RangeIndex: 178 entries, 0 to 177\n",
      "Data columns (total 14 columns):\n",
      " #   Column                        Non-Null Count  Dtype  \n",
      "---  ------                        --------------  -----  \n",
      " 0   alcohol                       178 non-null    float64\n",
      " 1   malic_acid                    178 non-null    float64\n",
      " 2   ash                           178 non-null    float64\n",
      " 3   alcalinity_of_ash             178 non-null    float64\n",
      " 4   magnesium                     178 non-null    float64\n",
      " 5   total_phenols                 178 non-null    float64\n",
      " 6   flavanoids                    178 non-null    float64\n",
      " 7   nonflavanoid_phenols          178 non-null    float64\n",
      " 8   proanthocyanins               178 non-null    float64\n",
      " 9   color_intensity               178 non-null    float64\n",
      " 10  hue                           178 non-null    float64\n",
      " 11  od280/od315_of_diluted_wines  178 non-null    float64\n",
      " 12  proline                       178 non-null    float64\n",
      " 13  target                        178 non-null    float64\n",
      "dtypes: float64(14)\n",
      "memory usage: 19.6 KB\n"
     ]
    }
   ],
   "source": [
    "# Run this code:\n",
    "from sklearn.datasets import load_iris, load_wine\n",
    "wine = load_wine()\n",
    "\n",
    "# Convert to pandas dataframe\n",
    "wines_data = pd.DataFrame(data = np.c_[wine['data'], wine['target']], columns = wine['feature_names'] + ['target'])\n",
    "\n",
    "#Check data with info function\n",
    "wines_data.info()"
   ]
  },
  {
   "cell_type": "markdown",
   "metadata": {},
   "source": [
    "## Task 1: Wines Dataset (12 points)\n",
    "The wine dataset contains the results of a chemical analysis of wines grown in a specific area of Italy. Three types of wine are represented in the 178 samples, with the results of 13 chemical analyses recorded for each sample. \n"
   ]
  },
  {
   "cell_type": "markdown",
   "metadata": {},
   "source": [
    "> 1) Show a summary of the dataset using Pandas (0.5 points)\n",
    ">\n",
    "> *Hint: check the Pandas documentation*"
   ]
  },
  {
   "cell_type": "code",
   "execution_count": 10,
   "metadata": {},
   "outputs": [
    {
     "data": {
      "text/html": [
       "<div>\n",
       "<style scoped>\n",
       "    .dataframe tbody tr th:only-of-type {\n",
       "        vertical-align: middle;\n",
       "    }\n",
       "\n",
       "    .dataframe tbody tr th {\n",
       "        vertical-align: top;\n",
       "    }\n",
       "\n",
       "    .dataframe thead th {\n",
       "        text-align: right;\n",
       "    }\n",
       "</style>\n",
       "<table border=\"1\" class=\"dataframe\">\n",
       "  <thead>\n",
       "    <tr style=\"text-align: right;\">\n",
       "      <th></th>\n",
       "      <th>alcohol</th>\n",
       "      <th>malic_acid</th>\n",
       "      <th>ash</th>\n",
       "      <th>alcalinity_of_ash</th>\n",
       "      <th>magnesium</th>\n",
       "      <th>total_phenols</th>\n",
       "      <th>flavanoids</th>\n",
       "      <th>nonflavanoid_phenols</th>\n",
       "      <th>proanthocyanins</th>\n",
       "      <th>color_intensity</th>\n",
       "      <th>hue</th>\n",
       "      <th>od280/od315_of_diluted_wines</th>\n",
       "      <th>proline</th>\n",
       "      <th>target</th>\n",
       "    </tr>\n",
       "  </thead>\n",
       "  <tbody>\n",
       "    <tr>\n",
       "      <th>count</th>\n",
       "      <td>178.000000</td>\n",
       "      <td>178.000000</td>\n",
       "      <td>178.000000</td>\n",
       "      <td>178.000000</td>\n",
       "      <td>178.000000</td>\n",
       "      <td>178.000000</td>\n",
       "      <td>178.000000</td>\n",
       "      <td>178.000000</td>\n",
       "      <td>178.000000</td>\n",
       "      <td>178.000000</td>\n",
       "      <td>178.000000</td>\n",
       "      <td>178.000000</td>\n",
       "      <td>178.000000</td>\n",
       "      <td>178.000000</td>\n",
       "    </tr>\n",
       "    <tr>\n",
       "      <th>mean</th>\n",
       "      <td>13.000618</td>\n",
       "      <td>2.336348</td>\n",
       "      <td>2.366517</td>\n",
       "      <td>19.494944</td>\n",
       "      <td>99.741573</td>\n",
       "      <td>2.295112</td>\n",
       "      <td>2.029270</td>\n",
       "      <td>0.361854</td>\n",
       "      <td>1.590899</td>\n",
       "      <td>5.058090</td>\n",
       "      <td>0.957449</td>\n",
       "      <td>2.611685</td>\n",
       "      <td>746.893258</td>\n",
       "      <td>0.938202</td>\n",
       "    </tr>\n",
       "    <tr>\n",
       "      <th>std</th>\n",
       "      <td>0.811827</td>\n",
       "      <td>1.117146</td>\n",
       "      <td>0.274344</td>\n",
       "      <td>3.339564</td>\n",
       "      <td>14.282484</td>\n",
       "      <td>0.625851</td>\n",
       "      <td>0.998859</td>\n",
       "      <td>0.124453</td>\n",
       "      <td>0.572359</td>\n",
       "      <td>2.318286</td>\n",
       "      <td>0.228572</td>\n",
       "      <td>0.709990</td>\n",
       "      <td>314.907474</td>\n",
       "      <td>0.775035</td>\n",
       "    </tr>\n",
       "    <tr>\n",
       "      <th>min</th>\n",
       "      <td>11.030000</td>\n",
       "      <td>0.740000</td>\n",
       "      <td>1.360000</td>\n",
       "      <td>10.600000</td>\n",
       "      <td>70.000000</td>\n",
       "      <td>0.980000</td>\n",
       "      <td>0.340000</td>\n",
       "      <td>0.130000</td>\n",
       "      <td>0.410000</td>\n",
       "      <td>1.280000</td>\n",
       "      <td>0.480000</td>\n",
       "      <td>1.270000</td>\n",
       "      <td>278.000000</td>\n",
       "      <td>0.000000</td>\n",
       "    </tr>\n",
       "    <tr>\n",
       "      <th>25%</th>\n",
       "      <td>12.362500</td>\n",
       "      <td>1.602500</td>\n",
       "      <td>2.210000</td>\n",
       "      <td>17.200000</td>\n",
       "      <td>88.000000</td>\n",
       "      <td>1.742500</td>\n",
       "      <td>1.205000</td>\n",
       "      <td>0.270000</td>\n",
       "      <td>1.250000</td>\n",
       "      <td>3.220000</td>\n",
       "      <td>0.782500</td>\n",
       "      <td>1.937500</td>\n",
       "      <td>500.500000</td>\n",
       "      <td>0.000000</td>\n",
       "    </tr>\n",
       "    <tr>\n",
       "      <th>50%</th>\n",
       "      <td>13.050000</td>\n",
       "      <td>1.865000</td>\n",
       "      <td>2.360000</td>\n",
       "      <td>19.500000</td>\n",
       "      <td>98.000000</td>\n",
       "      <td>2.355000</td>\n",
       "      <td>2.135000</td>\n",
       "      <td>0.340000</td>\n",
       "      <td>1.555000</td>\n",
       "      <td>4.690000</td>\n",
       "      <td>0.965000</td>\n",
       "      <td>2.780000</td>\n",
       "      <td>673.500000</td>\n",
       "      <td>1.000000</td>\n",
       "    </tr>\n",
       "    <tr>\n",
       "      <th>75%</th>\n",
       "      <td>13.677500</td>\n",
       "      <td>3.082500</td>\n",
       "      <td>2.557500</td>\n",
       "      <td>21.500000</td>\n",
       "      <td>107.000000</td>\n",
       "      <td>2.800000</td>\n",
       "      <td>2.875000</td>\n",
       "      <td>0.437500</td>\n",
       "      <td>1.950000</td>\n",
       "      <td>6.200000</td>\n",
       "      <td>1.120000</td>\n",
       "      <td>3.170000</td>\n",
       "      <td>985.000000</td>\n",
       "      <td>2.000000</td>\n",
       "    </tr>\n",
       "    <tr>\n",
       "      <th>max</th>\n",
       "      <td>14.830000</td>\n",
       "      <td>5.800000</td>\n",
       "      <td>3.230000</td>\n",
       "      <td>30.000000</td>\n",
       "      <td>162.000000</td>\n",
       "      <td>3.880000</td>\n",
       "      <td>5.080000</td>\n",
       "      <td>0.660000</td>\n",
       "      <td>3.580000</td>\n",
       "      <td>13.000000</td>\n",
       "      <td>1.710000</td>\n",
       "      <td>4.000000</td>\n",
       "      <td>1680.000000</td>\n",
       "      <td>2.000000</td>\n",
       "    </tr>\n",
       "  </tbody>\n",
       "</table>\n",
       "</div>"
      ],
      "text/plain": [
       "          alcohol  malic_acid         ash  alcalinity_of_ash   magnesium  \\\n",
       "count  178.000000  178.000000  178.000000         178.000000  178.000000   \n",
       "mean    13.000618    2.336348    2.366517          19.494944   99.741573   \n",
       "std      0.811827    1.117146    0.274344           3.339564   14.282484   \n",
       "min     11.030000    0.740000    1.360000          10.600000   70.000000   \n",
       "25%     12.362500    1.602500    2.210000          17.200000   88.000000   \n",
       "50%     13.050000    1.865000    2.360000          19.500000   98.000000   \n",
       "75%     13.677500    3.082500    2.557500          21.500000  107.000000   \n",
       "max     14.830000    5.800000    3.230000          30.000000  162.000000   \n",
       "\n",
       "       total_phenols  flavanoids  nonflavanoid_phenols  proanthocyanins  \\\n",
       "count     178.000000  178.000000            178.000000       178.000000   \n",
       "mean        2.295112    2.029270              0.361854         1.590899   \n",
       "std         0.625851    0.998859              0.124453         0.572359   \n",
       "min         0.980000    0.340000              0.130000         0.410000   \n",
       "25%         1.742500    1.205000              0.270000         1.250000   \n",
       "50%         2.355000    2.135000              0.340000         1.555000   \n",
       "75%         2.800000    2.875000              0.437500         1.950000   \n",
       "max         3.880000    5.080000              0.660000         3.580000   \n",
       "\n",
       "       color_intensity         hue  od280/od315_of_diluted_wines      proline  \\\n",
       "count       178.000000  178.000000                    178.000000   178.000000   \n",
       "mean          5.058090    0.957449                      2.611685   746.893258   \n",
       "std           2.318286    0.228572                      0.709990   314.907474   \n",
       "min           1.280000    0.480000                      1.270000   278.000000   \n",
       "25%           3.220000    0.782500                      1.937500   500.500000   \n",
       "50%           4.690000    0.965000                      2.780000   673.500000   \n",
       "75%           6.200000    1.120000                      3.170000   985.000000   \n",
       "max          13.000000    1.710000                      4.000000  1680.000000   \n",
       "\n",
       "           target  \n",
       "count  178.000000  \n",
       "mean     0.938202  \n",
       "std      0.775035  \n",
       "min      0.000000  \n",
       "25%      0.000000  \n",
       "50%      1.000000  \n",
       "75%      2.000000  \n",
       "max      2.000000  "
      ]
     },
     "execution_count": 10,
     "metadata": {},
     "output_type": "execute_result"
    }
   ],
   "source": [
    "wines_data.describe() # I use the describe method to present a summary of the dataset wines_data"
   ]
  },
  {
   "cell_type": "markdown",
   "metadata": {},
   "source": [
    "> 2) You are interested in the magnesium column. Find the mean, the median and the mode. \n",
    ">\n",
    "> Do you observe any differences in between the first ten and the last ten wines? (1.5 points)"
   ]
  },
  {
   "cell_type": "code",
   "execution_count": 35,
   "metadata": {},
   "outputs": [
    {
     "name": "stdout",
     "output_type": "stream",
     "text": [
      "the mean for the entire data sheet is: 99.74157303370787\n",
      "the mean for the first 10 wines is: 108.3\n",
      "the mean for the last 10 wines is: 102.3\n",
      "The most common value in the first 10 wines is 108.3 where it is 102.3 is the most commen in the last ten wines\n"
     ]
    }
   ],
   "source": [
    "#I use the loc method to get the data in the magnesium column and then i add the wanthed math methods to find the wanted values\n",
    "#For the first part of the task will i use the math method mean() to find the most common value\n",
    "#I use the print function to have the code print out all the values\n",
    "print(\"the mean for the entire data sheet is: \" + str(wines_data.loc[:,'magnesium'].mean()))\n",
    "\n",
    "#I use the head and tail function to study the mean of the first and last ten wines in the data sheet\n",
    "print(\"the mean for the first 10 wines is: \" + str(wines_data.loc[:,'magnesium'].head(10).mean()))\n",
    "print(\"the mean for the last 10 wines is: \" + str(wines_data.loc[:,'magnesium'].tail(10).mean()))\n",
    "\n",
    "print('The most common value in the first 10 wines is 108.3 where it is 102.3 is the most commen in the last ten wines')"
   ]
  },
  {
   "cell_type": "code",
   "execution_count": 37,
   "metadata": {},
   "outputs": [
    {
     "name": "stdout",
     "output_type": "stream",
     "text": [
      "the median for the entire data sheet is: 98.0\n",
      "the median for the first 10 wines is: 106.5\n",
      "the median for the last 10 wines is: 99.0\n",
      "The median of the first 10 wines is pretty close to the mean which tells us that the data is well distributed over the 10 first wine\n",
      "The last 10 wines on the other hand has a bigger gap between the mean and median which means that the data is less well distributed\n"
     ]
    }
   ],
   "source": [
    "#For the second part of the task i will use median to finde the middle value in the data frame\n",
    "print(\"the median for the entire data sheet is: \" + str(wines_data.loc[:,'magnesium'].median()))\n",
    "\n",
    "#I use the head and tail function to study the mean of the first and last ten wines in the data sheet\n",
    "print(\"the median for the first 10 wines is: \" + str(wines_data.loc[:,'magnesium'].head(10).median()))\n",
    "print(\"the median for the last 10 wines is: \" + str(wines_data.loc[:,'magnesium'].tail(10).median()))\n",
    "\n",
    "print('The median of the first 10 wines is pretty close to the mean which tells us that the data is well distributed over the 10 first wine')\n",
    "print('The last 10 wines on the other hand has a bigger gap between the mean and median which means that the data is less well distributed')"
   ]
  },
  {
   "cell_type": "code",
   "execution_count": 45,
   "metadata": {},
   "outputs": [
    {
     "name": "stdout",
     "output_type": "stream",
     "text": [
      "the most common value in the magnesium collumn is: 0    88.0\n",
      "dtype: float64\n"
     ]
    }
   ],
   "source": [
    "#The most common values in the magnesium collumn is found using the mode method\n",
    "print(\"the most common value in the magnesium collumn is: \" + str(wines_data.loc[:,'magnesium'].mode()))\n"
   ]
  },
  {
   "cell_type": "code",
   "execution_count": 46,
   "metadata": {},
   "outputs": [
    {
     "name": "stdout",
     "output_type": "stream",
     "text": [
      "the most common value of the first 10 wines in the magnesium collumn is: 0     96.0\n",
      "1     97.0\n",
      "2     98.0\n",
      "3    100.0\n",
      "4    101.0\n",
      "5    112.0\n",
      "6    113.0\n",
      "7    118.0\n",
      "8    121.0\n",
      "9    127.0\n",
      "dtype: float64\n"
     ]
    }
   ],
   "source": [
    "print(\"the most common values of the first 10 wines in the magnesium collumn is: \" + str(wines_data.loc[:,'magnesium'].head(10).mode()))"
   ]
  },
  {
   "cell_type": "code",
   "execution_count": 47,
   "metadata": {
    "scrolled": true
   },
   "outputs": [
    {
     "name": "stdout",
     "output_type": "stream",
     "text": [
      "the most common values of the last 10 wines in the magnesium collumn is: 0     96.0\n",
      "1    120.0\n",
      "dtype: float64\n"
     ]
    }
   ],
   "source": [
    "print(\"the most common values of the last 10 wines in the magnesium collumn is: \" + str(wines_data.loc[:,'magnesium'].tail(10).mode()))"
   ]
  },
  {
   "cell_type": "code",
   "execution_count": 48,
   "metadata": {},
   "outputs": [],
   "source": [
    "#We can see that there are no repeated values in the first 10 wines but two repeated values in the las 10 wines"
   ]
  },
  {
   "cell_type": "markdown",
   "metadata": {},
   "source": [
    "> 3) Based on the mean, median and mode, does the magnesium have a skewed distribution? \n",
    ">\n",
    "> If yes, is it positively or negatively skewed? \n",
    ">\n",
    "> Does this mean it is left-tailed or right-tailed? (2 points)"
   ]
  },
  {
   "cell_type": "code",
   "execution_count": 51,
   "metadata": {},
   "outputs": [
    {
     "name": "stdout",
     "output_type": "stream",
     "text": [
      "mean: 99.74157303370787\n",
      "median: 98.0\n"
     ]
    }
   ],
   "source": [
    "#first i need to have the mean and the median of the dataset just for good mesure\n",
    "print('mean: ' + str(wines_data.loc[:,'magnesium'].mean()))\n",
    "print('median: ' + str(wines_data.loc[:,'magnesium'].median()))"
   ]
  },
  {
   "cell_type": "code",
   "execution_count": 52,
   "metadata": {},
   "outputs": [
    {
     "data": {
      "text/plain": [
       "<AxesSubplot:>"
      ]
     },
     "execution_count": 52,
     "metadata": {},
     "output_type": "execute_result"
    },
    {
     "data": {
      "image/png": "[encoded data removed]",
      "text/plain": [
       "<Figure size 432x288 with 1 Axes>"
      ]
     },
     "metadata": {
      "needs_background": "light"
     },
     "output_type": "display_data"
    }
   ],
   "source": [
    "#We observe that the mean is larger than the median which means that the data set is lef skewed\n",
    "#This means that the data ste is right tailed.\n"
   ]
  },
  {
   "cell_type": "markdown",
   "metadata": {},
   "source": [
    "> 4) Visualize the shape of the magnesium distribution using a histogram and explain in detail what your histogram is showing (2 points).\n",
    ">\n",
    "> *Hint: Check the Pandas documentation*"
   ]
  },
  {
   "cell_type": "code",
   "execution_count": null,
   "metadata": {},
   "outputs": [],
   "source": [
    "#i use the hist() method to create a histogram \n",
    "wines_data.loc[:,'magnesium'].hist()\n",
    "#the histogram shows the amount of wine that contains a certain amount of magnesium\n",
    "#The y axis shows the amount of wines and the X axis shows the amount of magnesium"
   ]
  },
  {
   "cell_type": "markdown",
   "metadata": {},
   "source": [
    "> 5) Visualize together the shape of the alcohol, ash and flavanoids distributions using histograms. Can you state any differences with the previous plot? Are they skewed distributions? Are they multimodal? (2 points)\n",
    ">\n",
    "> *Hint: .hist() can be applied to multiple columns*"
   ]
  },
  {
   "cell_type": "code",
   "execution_count": 59,
   "metadata": {},
   "outputs": [
    {
     "name": "stdout",
     "output_type": "stream",
     "text": [
      "alcohol      -0.049382\n",
      "ash           0.006517\n",
      "flavanoids   -0.105730\n",
      "dtype: float64\n"
     ]
    },
    {
     "data": {
      "image/png": "[encoded data removed]",
      "text/plain": [
       "<Figure size 432x288 with 4 Axes>"
      ]
     },
     "metadata": {
      "needs_background": "light"
     },
     "output_type": "display_data"
    }
   ],
   "source": [
    "#I type in the names of the collumns of whichs data i want a histogram from\n",
    "wines_data[['alcohol', 'ash', 'flavanoids']].hist()\n",
    "\n",
    "#Then i print out the mean of the three collumns minus the median witch shows me if there are any skewed distribution in the \n",
    "#data within the collumns.\n",
    "print(wines_data[['alcohol', 'ash', 'flavanoids']].mean()-wines_data[['alcohol', 'ash', 'flavanoids']].median())\n",
    "\n",
    "#I can see that the data from the collumns has almost no skew. The alcohol and flavanoids collumns are slightly negativly\n",
    "#skewed and the ash collumn is slightly positivly skewed. The flavanoids cloumn has a multimodal distribution"
   ]
  },
  {
   "cell_type": "markdown",
   "metadata": {},
   "source": [
    "> 6) To get a better idea about the magnesium distribution, exclude the outliers (2 points).\n",
    ">\n",
    "> *Hint: there are multiple approaches here, for example, you could inspect the DataFrame, use a box plot or use .quantiles() to clean up the histogram.*"
   ]
  },
  {
   "cell_type": "code",
   "execution_count": 75,
   "metadata": {},
   "outputs": [
    {
     "data": {
      "text/plain": [
       "<AxesSubplot:>"
      ]
     },
     "execution_count": 75,
     "metadata": {},
     "output_type": "execute_result"
    },
    {
     "data": {
      "image/png": "[encoded data removed]",
      "text/plain": [
       "<Figure size 432x288 with 1 Axes>"
      ]
     },
     "metadata": {
      "needs_background": "light"
     },
     "output_type": "display_data"
    }
   ],
   "source": [
    "#I start of by finding the quartiles in the histogram and define them for later use\n",
    "quantile1 = wines_data[\"magnesium\"].quantile(0.75)\n",
    "quantile2 = wines_data[\"magnesium\"].quantile(0.25)\n",
    "\n",
    "#Then i find the interquartile range by substracting quantile1 by quantile2\n",
    "iqrange = quantile1 - quantile2\n",
    "\n",
    "#i then find the min and max range of the cleaned histogram. I do so by adding one and a half og the interquartile range to the\n",
    "#quantile1 and substracting one and a half of the interquartile range from quantile2\n",
    "Max = quantile1 + 1.5*iqrange\n",
    "Min = quantile2 - 1.5*iqrange\n",
    "\n",
    "#I then create a new and cleaned data frame frome the wines_data dataframe\n",
    "clean_wine_data = wines_data[(wines_data[\"magnesium\"] < Max) & (wines_data[\"magnesium\"] > Min)]\n",
    "\n",
    "clean_wine_data[\"magnesium\"].hist()"
   ]
  },
  {
   "cell_type": "markdown",
   "metadata": {},
   "source": [
    "> 7) Create a box plot of the magnesium column and explain what you see (2 points)."
   ]
  },
  {
   "cell_type": "code",
   "execution_count": 79,
   "metadata": {},
   "outputs": [
    {
     "data": {
      "text/plain": [
       "<AxesSubplot:>"
      ]
     },
     "execution_count": 79,
     "metadata": {},
     "output_type": "execute_result"
    },
    {
     "data": {
      "image/png": "[encoded data removed]",
      "text/plain": [
       "<Figure size 432x288 with 1 Axes>"
      ]
     },
     "metadata": {
      "needs_background": "light"
     },
     "output_type": "display_data"
    }
   ],
   "source": [
    "#I use the plot.box() method to create the box plot\n",
    "wines_data.loc[:,'magnesium'].plot.box()\n",
    "#The cicles on top of the box plot are the outliers lager then 1.5 times the upper quartile\n",
    "#The line at the top of the box plot is the largest value not including the outliers\n",
    "#The first line of the box is the upper quartline, the second is the median and the last is the lower quartile\n",
    "#The lowest line of the entire box plot is the minimum value of the date frame"
   ]
  },
  {
   "cell_type": "markdown",
   "metadata": {},
   "source": [
    "🔺 **Points for task 1:  / 12** -"
   ]
  },
  {
   "cell_type": "markdown",
   "metadata": {},
   "source": [
    "## Task 2: Create your own descriptive statistics function (8 points)"
   ]
  },
  {
   "cell_type": "markdown",
   "metadata": {},
   "source": [
    "> Write a function **print_summary_statistics()** that takes a DataFrame as input and prints to the screen for each attribute (column) whether it is *categorical* or *quantitative*. If it is quantitative, it should also return \n",
    ">\n",
    "> a) the mean, \n",
    ">\n",
    "> b) the mode, \n",
    ">\n",
    "> c) the median, \n",
    ">\n",
    "> d) the 25th and 75th percentile, \n",
    ">\n",
    "> e) the range, \n",
    ">\n",
    "> f) whether it is positively or negatively skewed and \n",
    ">\n",
    "> g) whether it is leptokurtic or platykurtic. Test it with the \"test_df\" object.\n",
    ">> *Hint: you can use **df[\"attribute\"].dtype.name** to check whether an attribute is categorical or not.*"
   ]
  },
  {
   "cell_type": "code",
   "execution_count": 90,
   "metadata": {},
   "outputs": [
    {
     "name": "stdout",
     "output_type": "stream",
     "text": [
      "sepal length (cm)\n",
      "the data type in this data set is: quantitive\n",
      "The mean is: 5.843333333333335\n",
      "The median is: 5.8\n",
      "The mode is: 0    5.0\n",
      "dtype: float64\n",
      "The upper qauntile is: 6.4\n",
      "The lower qauntile is: 5.1\n",
      "The range is: 3.6000000000000005\n",
      "This data set is positively scewed\n",
      "This data set is leptokutic\n",
      "sepal width (cm)\n",
      "the data type in this data set is: quantitive\n",
      "The mean is: 3.057333333333334\n",
      "The median is: 3.0\n",
      "The mode is: 0    3.0\n",
      "dtype: float64\n",
      "The upper qauntile is: 3.3\n",
      "The lower qauntile is: 2.8\n",
      "The range is: 2.4000000000000004\n",
      "This data set is positively scewed\n",
      "This data set is platykutic\n",
      "petal length (cm)\n",
      "the data type in this data set is: quantitive\n",
      "The mean is: 3.7580000000000027\n",
      "The median is: 4.35\n",
      "The mode is: 0    1.4\n",
      "1    1.5\n",
      "dtype: float64\n",
      "The upper qauntile is: 5.1\n",
      "The lower qauntile is: 1.6\n",
      "The range is: 5.9\n",
      "This data set is negativly skewed\n",
      "This data set is leptokutic\n",
      "petal width (cm)\n",
      "the data type in this data set is: quantitive\n",
      "The mean is: 1.199333333333334\n",
      "The median is: 1.3\n",
      "The mode is: 0    0.2\n",
      "dtype: float64\n",
      "The upper qauntile is: 1.8\n",
      "The lower qauntile is: 0.3\n",
      "The range is: 2.4\n",
      "This data set is negativly skewed\n",
      "This data set is leptokutic\n",
      "target\n",
      "the data type in this data set is: categorical\n"
     ]
    }
   ],
   "source": [
    "# Loading a test data set\n",
    "test_df = load_iris(as_frame=True).frame\n",
    "test_df[\"target\"] = test_df[\"target\"].astype('category')\n",
    "\n",
    "\n",
    "def print_summary_statistics(df):\n",
    "    \n",
    "#i start my function by creating a for loop that itterates for x in the datafram df. x is the names of the different collumns\n",
    "    for x in df:\n",
    "#The code then prints the name of the collumn\n",
    "        print (x)\n",
    "        \n",
    "#i define my variable y        \n",
    "        y=0\n",
    "#Then i make an if/else stament that sets the data type of the coumn. it does so by defining the type from wether or not\n",
    "#the type name is category or not.\n",
    "        if df[x].dtype.name=='category':\n",
    "            y='categorical'\n",
    "        else:\n",
    "            y='quantitive'\n",
    "#The code then prints what data type is in the given data set          \n",
    "        print('the data type in this data set is: ' + y)\n",
    "        \n",
    "        \n",
    "#Then i create an if statement that prints out the mean, median, mode, upper quantile, lower quantile and range if the\n",
    "#data type in the data set is not catefory\n",
    "        if(df[x].dtype.name) != 'category':\n",
    "            print('The mean is: ' + str(df[x].mean())) #i use the mean() method\n",
    "            print('The median is: ' + str(df[x].median())) # i use the median() method\n",
    "            print('The mode is: ' + str(df[x].mode())) #i use the mode() method\n",
    "            print('The upper qauntile is: ' + str(df[x].quantile(0.75))) #i use the quantile() method and writes 0.75 in the ()\n",
    "                                                                         #to find all values lower than the top 25%\n",
    "            print('The lower qauntile is: ' + str(df[x].quantile(0.25)))#i use the quantile() method and writes 0.25 in the ()\n",
    "                                                                         #to find all values lower than the buttom 25%\n",
    "            print('The range is: ' + str(df[x].max()-df[x].min())) #i substract the min value in the given data set from the\n",
    "                                                                   #min value of the set to find the range\n",
    "\n",
    "#Then i define a z variable\n",
    "            z = 0\n",
    "#I create an if statement that asks if the skew value is positive. If the skew value is positive then z is\n",
    "#assigned 'This data set is positively scewed'. If it is negative then the z variable is assigned the string 'This data set is \n",
    "#negativly skewed' \n",
    "            if df[x].skew() > 0:\n",
    "                z = 'This data set is positively scewed'\n",
    "            elif df[x].skew() < 0:\n",
    "                z = 'This data set is negativly skewed' \n",
    "            print(z)\n",
    "        \n",
    "#The exact same thing as above is done here aswell. However, now the code look at the kurtosis of the given data set\n",
    "            a=0\n",
    "            if df[x].kurt() > 0:\n",
    "                a = 'This data set is platykutic'\n",
    "            elif df[x].kurt() < 0:\n",
    "                a = 'This data set is leptokutic'\n",
    "            print(a)\n",
    "\n",
    "print_summary_statistics(test_df)"
   ]
  },
  {
   "cell_type": "markdown",
   "metadata": {},
   "source": [
    "🔺 **Points for task 2:  / 8** -\n",
    "\n",
    "🔺 **FINAL GRADE** - / 20 :"
   ]
  },
  {
   "cell_type": "code",
   "execution_count": null,
   "metadata": {},
   "outputs": [],
   "source": []
  }
 ],
 "metadata": {
  "kernelspec": {
   "display_name": "Python 3",
   "language": "python",
   "name": "python3"
  },
  "language_info": {
   "codemirror_mode": {
    "name": "ipython",
    "version": 3
   },
   "file_extension": ".py",
   "mimetype": "text/x-python",
   "name": "python",
   "nbconvert_exporter": "python",
   "pygments_lexer": "ipython3",
   "version": "3.8.8"
  }
 },
 "nbformat": 4,
 "nbformat_minor": 4
}
