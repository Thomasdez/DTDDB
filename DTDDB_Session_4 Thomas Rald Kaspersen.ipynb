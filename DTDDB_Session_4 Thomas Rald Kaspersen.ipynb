{
 "cells": [
  {
   "cell_type": "markdown",
   "metadata": {},
   "source": [
    "# Digital Technologies and Data-Driven Business\n",
    "\n",
    "## Mandatory Exercise #1\n",
    "## DTDDB Session 4\n",
    "## Deadline: Monday, September 20th 12:30"
   ]
  },
  {
   "cell_type": "code",
   "execution_count": null,
   "metadata": {},
   "outputs": [],
   "source": [
    "## ☠ Please read the instructions carefully: ☠\n",
    "##\n",
    "## - Your task is to complete this mandatory exercise, \n",
    "## - then save the .ipynb file and upload it to https://eksamen.cbs.dk/\n",
    "## - The deadline is Monday the 20th at 12:30\n",
    "## - Grading is pass OR fail\n",
    "## - You should answer all the questions by\n",
    "#### - a) providing the correct Python code\n",
    "#### - b) explaining (❗) the code you have written in your own words (either as markdown or comment)\n",
    "## - Answers that are not your own (plagiarised) will lead to an automatic fail\n",
    "## - You may work in groups but your submissions must be individual, i.e. you each have to provide a functioning .ipynb file with YOUR writing and explanation\n",
    "## - If you get stuck, move to the next question - perhaps it will help you solve an earlier one.\n",
    "## - ☢ Read the instructions for each task carefully! ☢"
   ]
  },
  {
   "cell_type": "markdown",
   "metadata": {},
   "source": [
    "## Task 1: All beginnings are ~~difficult~~ easy\n",
    "\n",
    "[Traditionally](https://en.wikipedia.org/wiki/%22Hello,_World!%22_program), when we learn a new programming language, we start with a programme that prints **Hello, World!** in the output.\n",
    "\n",
    "#### Please print **Hello, World!** using the following cell."
   ]
  },
  {
   "cell_type": "code",
   "execution_count": 2,
   "metadata": {},
   "outputs": [
    {
     "name": "stdout",
     "output_type": "stream",
     "text": [
      "Hello, World!\n"
     ]
    }
   ],
   "source": [
    "print('Hello, World!')"
   ]
  },
  {
   "cell_type": "markdown",
   "metadata": {},
   "source": []
  },
  {
   "cell_type": "markdown",
   "metadata": {},
   "source": [
    "#### Now print **\"Hello World!\"** and explain your code. "
   ]
  },
  {
   "cell_type": "code",
   "execution_count": 3,
   "metadata": {},
   "outputs": [
    {
     "name": "stdout",
     "output_type": "stream",
     "text": [
      "\"Helo World!\"\n"
     ]
    }
   ],
   "source": [
    "# I use print funtion to print funtion to print out the desired string.\n",
    "# Because duble qutaion is wanted in the string output i use the single qoutation to make the outcome \"hello world!\"\n",
    "print('\"Helo World!\"')"
   ]
  },
  {
   "cell_type": "markdown",
   "metadata": {},
   "source": []
  },
  {
   "cell_type": "markdown",
   "metadata": {},
   "source": [
    "#### Now write a programme that gets the user's name from the input and returns **Hello,** followed by that name and **welcome to DTDDB!**"
   ]
  },
  {
   "cell_type": "code",
   "execution_count": 5,
   "metadata": {},
   "outputs": [
    {
     "name": "stdout",
     "output_type": "stream",
     "text": [
      "Please enter your name:Thomas\n",
      "Hello Thomas welcome to DTDDB!\n"
     ]
    }
   ],
   "source": [
    "#first i create a input variable called name\n",
    "Name = input('Please enter your name:')\n",
    "#i then ask the code to print the input out\n",
    "print('Hello',Name,'welcome to DTDDB!')"
   ]
  },
  {
   "cell_type": "markdown",
   "metadata": {},
   "source": []
  },
  {
   "cell_type": "markdown",
   "metadata": {},
   "source": [
    "# Task 2: Road Rage!\n",
    "\n",
    "Jupyter Notebooks allow you to format non-text sections in [*markdown*](https://www.markdowntutorial.com). This is particularly useful to explain your code to others.\n",
    "\n",
    "In the following markdown field, do these things:\n",
    "\n",
    "1. Embed an image from the internet.\n",
    "2. Write a sentence that uses **bold**, *emphasis*, and ~~strikethrough~~ markup."
   ]
  },
  {
   "cell_type": "markdown",
   "metadata": {},
   "source": [
    "1. \n",
    "\n",
    "I Picked a picture of a cute dog on google, began the link with an \"!\" to show that it was a picture, then i added an alt text in brackets ([]) incase there was a problem with the picture, and then i added the link in () to make the picture show\n",
    "\n",
    "![A very cute dog](https://hips.hearstapps.com/hmg-prod.s3.amazonaws.com/images/dog-puppy-on-garden-royalty-free-image-1586966191.jpg?crop=1.00xw:0.669xh;0,0.190xh&resize=1200:*)\n",
    "\n",
    "\n",
    "2.\n",
    "\n",
    "i used HTML coding\n",
    "\n",
    "<B>hello</B> <I>my</I> <s>friend</s>\n",
    "\n",
    "And then i did it the right way after i realized i am suposed to do it in python ofcourse. I used ** on both sides of \"hello\" to make it bold, _ on both sides of \"my\" to make it emohasis, and used ~ on both sides of \"fried\" to make it strikethrough\n",
    "\n",
    "**hello** _my_ ~friend~  \n"
   ]
  },
  {
   "cell_type": "markdown",
   "metadata": {},
   "source": [
    "That's the spirit!\n",
    "\n",
    "Here's a drawing of a toad in a car:\n",
    "\n",
    "![](https://i.guim.co.uk/img/static/sys-images/Observer/Pix/pictures/2014/6/6/1402057044297/Wind-in-the-Willows-McCru-009.jpg?width=620&quality=45&auto=format&fit=max&dpr=2&s=5f6505d8e3040ca44fe9d39a42890549)\n",
    "\n",
    "Imagine it covered a distance of **207** meters before the policeman stopped it.\n",
    "After **16.892** seconds.\n",
    "\n",
    "Use Python to calculate the speed in km/h (kilometers per hour).  \n",
    "Display it with *one* decimal space.  \n",
    "Use **in-line comments** to describe each line of your code.  \n",
    "\n",
    "\n",
    "*Remember: speed is distance over time*"
   ]
  },
  {
   "cell_type": "code",
   "execution_count": 16,
   "metadata": {},
   "outputs": [
    {
     "name": "stdout",
     "output_type": "stream",
     "text": [
      "44.1k/h\n"
     ]
    }
   ],
   "source": [
    "#First i create the variables speed and distance konverted to kilometers and kilometers per hour\n",
    "Distance = (207/1000)\n",
    "Time = (16.892/3600)\n",
    "\n",
    "#I then do the equation to figure out speed\n",
    "Speed = Distance/Time\n",
    "\n",
    "#Finaly i print out the speed with one digit space by using f\n",
    "print(f'{Speed:.1f}'\"k/h\")\n"
   ]
  },
  {
   "cell_type": "markdown",
   "metadata": {},
   "source": [
    "## Task 3: Pythonic Fundamentals\n",
    "\n",
    "Every *object* in Python has a data type associated with it. Here are some of the most common data types you will encounter:\n",
    "\n",
    "* `int` integer\n",
    "* `float` floating point number\n",
    "* `str` string\n",
    "\n",
    "We will see these data types later on in the course:\n",
    "\n",
    "* `list` lists\n",
    "* `dict` dictionary\n",
    "* `bool` boolean\n",
    "* `tuple` tuple\n",
    "\n",
    "In the next 2 cells, notice how the output changes based on how we define what to print:"
   ]
  },
  {
   "cell_type": "code",
   "execution_count": null,
   "metadata": {},
   "outputs": [],
   "source": [
    "print(1 + 1)"
   ]
  },
  {
   "cell_type": "code",
   "execution_count": null,
   "metadata": {},
   "outputs": [],
   "source": [
    "print(\"1\" + \"1\")"
   ]
  },
  {
   "cell_type": "markdown",
   "metadata": {},
   "source": [
    "What type of value is 3.4? How can you find out?\n",
    "\n",
    "(You can use the `type` command to find out the type of an expression)"
   ]
  },
  {
   "cell_type": "code",
   "execution_count": 17,
   "metadata": {},
   "outputs": [
    {
     "name": "stdout",
     "output_type": "stream",
     "text": [
      "<class 'float'>\n"
     ]
    }
   ],
   "source": [
    "#I use the type command to find the type of value 3.4 is\n",
    "#I use the print function to have it say class just for clarity\n",
    "print(type(3.4))"
   ]
  },
  {
   "cell_type": "markdown",
   "metadata": {},
   "source": []
  },
  {
   "cell_type": "markdown",
   "metadata": {},
   "source": [
    "What type of value is 3.25 + 4?"
   ]
  },
  {
   "cell_type": "code",
   "execution_count": 18,
   "metadata": {},
   "outputs": [
    {
     "name": "stdout",
     "output_type": "stream",
     "text": [
      "<class 'float'>\n"
     ]
    }
   ],
   "source": [
    "#I do the exact same as above\n",
    "print(type(3.25+4))"
   ]
  },
  {
   "cell_type": "markdown",
   "metadata": {},
   "source": []
  },
  {
   "cell_type": "markdown",
   "metadata": {},
   "source": [
    "#### Write a programme with two variables *first_var* and *second_var*. Then evaluate whether *first_var == second_var* and print the result."
   ]
  },
  {
   "cell_type": "markdown",
   "metadata": {},
   "source": [
    "Now test your programme using the following pairs of input:\n",
    "\n",
    "\"Hello\", Hello  \n",
    "1, \"1\"  \n",
    "1, 1  \n",
    "1, 1.0  \n",
    "None, None  \n",
    "3*2, 3*2.0  \n",
    "\n",
    "Explain the results."
   ]
  },
  {
   "cell_type": "code",
   "execution_count": 31,
   "metadata": {
    "scrolled": true
   },
   "outputs": [
    {
     "name": "stdout",
     "output_type": "stream",
     "text": [
      "insert variable 1:\"Hello\"\n",
      "insert variable 2:Hello\n",
      "False\n",
      "insert variable 1:1\n",
      "insert variable 2:\"1\"\n",
      "False\n",
      "insert variable 1:1\n",
      "insert variable 2:1\n",
      "True\n",
      "insert variable 1:1\n",
      "insert variable 2:1.0\n",
      "False\n",
      "insert variable 1:None\n",
      "insert variable 2:None\n",
      "True\n",
      "insert variable 1:32\n",
      "insert variable 2:32.0\n",
      "False\n"
     ]
    }
   ],
   "source": [
    "#Test with \"Hello\" and Hello\n",
    "first_var = input('insert variable 1:')\n",
    "secound_var = input('insert variable 2:')\n",
    "print(first_var==secound_var)\n",
    "#comes out as false beacuse the two strings are different\n",
    "\n",
    "#test 1 and \"1\"\n",
    "first_var = input('insert variable 1:')\n",
    "secound_var = input('insert variable 2:')\n",
    "print(first_var==secound_var)\n",
    "# comes out as false since 1 is an int and \"1\" is a string\n",
    "\n",
    "#Test 1 and 1\n",
    "first_var = input('insert variable 1:')\n",
    "secound_var = input('insert variable 2:')\n",
    "print(first_var==secound_var)\n",
    "#Comes out as true since 1 and 1 is the same int\n",
    "\n",
    "#test 1 and 1.0\n",
    "first_var = input('insert variable 1:')\n",
    "secound_var = input('insert variable 2:')\n",
    "print(first_var==secound_var)\n",
    "#Comes out as true as 1 is an int and 1.0 is a float\n",
    "\n",
    "#Test None and None\n",
    "first_var = input('insert variable 1:')\n",
    "secound_var = input('insert variable 2:')\n",
    "print(first_var==secound_var)\n",
    "#comes out as true since None ande None are identical strings\n",
    "\n",
    "#Test 32 and 32.0\n",
    "first_var = input('insert variable 1:')\n",
    "secound_var = input('insert variable 2:')\n",
    "print(first_var==secound_var)\n",
    "#Comes out as true as 1 is an int and 1.0 is a float"
   ]
  },
  {
   "cell_type": "markdown",
   "metadata": {},
   "source": [
    "\n"
   ]
  },
  {
   "cell_type": "markdown",
   "metadata": {},
   "source": [
    "## Task 4: The Aged\n",
    "\n",
    "#### Write a program that asks the user for their year of birth and displays their age. The current year should be assigned to the variable *current_year*.\n",
    "\n",
    "*Hint: you may ignore whether someone's birthday has already passed this year or not*"
   ]
  },
  {
   "cell_type": "code",
   "execution_count": 41,
   "metadata": {},
   "outputs": [
    {
     "name": "stdout",
     "output_type": "stream",
     "text": [
      "What year were you born?:2000\n",
      "You are 21 or 20 years old\n"
     ]
    }
   ],
   "source": [
    "#first i create a input variable for the birth year\n",
    "Birthyear = int(input(\"What year were you born?:\"))\n",
    "#i then substract the birth year from this year 2021\n",
    "Age = (2021-Birthyear)\n",
    "#just for fun i substract 1 year so that i also have the person age if that person is bourn past todays date\n",
    "Age2 = (Age-1)\n",
    "#Finaly i print out the age the input gives me\n",
    "print('You are',Age,'or',Age2,'years old')"
   ]
  },
  {
   "cell_type": "markdown",
   "metadata": {},
   "source": [
    "## Task 5: By Loops and Bounds\n",
    "\n",
    "Often it is necessary to run a block of code multiple times.  \n",
    "For example, a certain set of operations needs to be applied to every element in a list.  \n",
    "\n",
    "➡️ This is achieved using **loops**  \n",
    "➡️ Each repetition through such a block of code is called **iteration**\n",
    "\n",
    "There are two types of loops:  \n",
    "1. **definite** or **for-loop**  \n",
    "2. **indefinite** or **while-loop** \n",
    "  \n",
    "    \n",
    "\n",
    "#### You can iterate over a range of numbers, using the **range** operator. For example, iterate over the numbers from 0 to 4:"
   ]
  },
  {
   "cell_type": "code",
   "execution_count": 42,
   "metadata": {},
   "outputs": [
    {
     "name": "stdout",
     "output_type": "stream",
     "text": [
      "0\n",
      "1\n",
      "2\n",
      "3\n",
      "4\n"
     ]
    }
   ],
   "source": [
    "#i created a for loop which print out every number in the range up till 5\n",
    "for i in range(5):\n",
    "    print(i)"
   ]
  },
  {
   "cell_type": "markdown",
   "metadata": {},
   "source": [
    "#### You can explicitly define the start and end of a **range** of numbers. Here, we start at 20 and finish at 25 (excluding 25!):"
   ]
  },
  {
   "cell_type": "code",
   "execution_count": 195,
   "metadata": {},
   "outputs": [
    {
     "name": "stdout",
     "output_type": "stream",
     "text": [
      "20\n",
      "21\n",
      "22\n",
      "23\n",
      "24\n"
     ]
    }
   ],
   "source": [
    "#I create a for loop which prints out the numbers between 20 and 25. i exclude 25 by writing it in the range ()\n",
    "#since that excludes it by default\n",
    "for x in range(20, 25):\n",
    "    print(x)"
   ]
  },
  {
   "cell_type": "markdown",
   "metadata": {},
   "source": [
    "#### Write a programme that displays **Hello** 15 times and **Goodbye!** once.\n",
    "*Don't forget to annotate your code! Even if it seems self-explanatory - it often isn't.*"
   ]
  },
  {
   "cell_type": "code",
   "execution_count": 47,
   "metadata": {},
   "outputs": [
    {
     "name": "stdout",
     "output_type": "stream",
     "text": [
      "Hello\n",
      "Hello\n",
      "Hello\n",
      "Hello\n",
      "Hello\n",
      "Hello\n",
      "Hello\n",
      "Hello\n",
      "Hello\n",
      "Hello\n",
      "Hello\n",
      "Hello\n",
      "Hello\n",
      "Hello\n",
      "Hello\n",
      "Goodbye!\n"
     ]
    }
   ],
   "source": [
    "#First i add value to the two range variable which i named x and y\n",
    "x = 15\n",
    "y = 1\n",
    "\n",
    "#I then create a for loop for the amuonts of times i need the program to write Hello and Goodbye\n",
    "for i in range(x):\n",
    "    print('Hello')\n",
    "    \n",
    "for j in range(y):\n",
    "    print('Goodbye!')"
   ]
  },
  {
   "cell_type": "markdown",
   "metadata": {},
   "source": []
  },
  {
   "cell_type": "markdown",
   "metadata": {},
   "source": [
    "#### Modify the programme below to break once the correct answer is given by the user.\n",
    "*Hint: it's **42.***"
   ]
  },
  {
   "cell_type": "code",
   "execution_count": 89,
   "metadata": {},
   "outputs": [
    {
     "name": "stdout",
     "output_type": "stream",
     "text": [
      "What is the answer to life the universe and everything: 55\n",
      "Thats wrooong\n",
      "What is the answer to life the universe and everything: 42\n",
      "That is correct\n"
     ]
    }
   ],
   "source": [
    "question = \"What is the answer to life the universe and everything: \"\n",
    "answer = input(question)   \n",
    "truth = \"42\"\n",
    "\n",
    "#I create a while loop to chek if the input in the variable answer is not equal to the variable truth.\n",
    "#If the input is equal to truth the loop will print \"That is correct\"\n",
    "while answer != truth:\n",
    "    \n",
    "#if the input in the variable answer is not equal to the variable truth the program then prints the string \"thats wrooong\"\n",
    "    print('Thats wrooong')\n",
    "    answer = input(question)\n",
    "print('That is correct')"
   ]
  },
  {
   "cell_type": "markdown",
   "metadata": {},
   "source": []
  },
  {
   "cell_type": "markdown",
   "metadata": {
    "tags": []
   },
   "source": [
    "## Task 6: Factors\n",
    "\n",
    "The factor of any number is an integer that divides the number exactly into an integer without leaving a remainder.  \n",
    "\n",
    "For example, 2 is a factor of 6 because 2 divides 6 exactly without leaving a remainder.\n",
    "\n",
    "#### Write a programme to find all the factors of **20** using a *for-loop* and print them.\n",
    "*Hint: Use the '%' modulo operator.*"
   ]
  },
  {
   "cell_type": "code",
   "execution_count": 114,
   "metadata": {},
   "outputs": [
    {
     "name": "stdout",
     "output_type": "stream",
     "text": [
      "1\n",
      "2\n",
      "4\n",
      "5\n",
      "10\n",
      "20\n"
     ]
    }
   ],
   "source": [
    "#First i create a loop for all x values between 1 and 21\n",
    "for x in range(1,21):\n",
    "#i create an if sentence to make the code print the number who align with the if condition\n",
    "    if 20%x == 0:\n",
    "#i print within the loop to get all the numbers out\n",
    "        print (x)\n"
   ]
  },
  {
   "cell_type": "markdown",
   "metadata": {},
   "source": []
  },
  {
   "cell_type": "markdown",
   "metadata": {},
   "source": [
    "#### Extend your code to take user input. Rather than printing the factors, print the number of factors you can find for each number."
   ]
  },
  {
   "cell_type": "code",
   "execution_count": 132,
   "metadata": {},
   "outputs": [
    {
     "name": "stdout",
     "output_type": "stream",
     "text": [
      "please type your number:20\n",
      "6\n"
     ]
    }
   ],
   "source": [
    "#First i add an variable with the option to add input\n",
    "x = int(input('please type your number:'))\n",
    "#I also add a vaiable z for late use (;\n",
    "z = 0\n",
    "\n",
    "#Then i create a for loop that cheks for all factors from 1 to x\n",
    "for y in range (1,x+1):\n",
    "#I then ad a if condition in the loop that chek if any given value of y is a factor of x\n",
    "    if x%y == 0:\n",
    "#i ad a counter by adding 1 to z every time a factor of x is found\n",
    "        z=z+1\n",
    "print(z)"
   ]
  },
  {
   "cell_type": "markdown",
   "metadata": {},
   "source": []
  },
  {
   "cell_type": "markdown",
   "metadata": {},
   "source": [
    "## Task 7: Important Calculations\n",
    "\n",
    "The multinational corporate giant that has just hired you as a Data Scientist requires a sophisticated programme that prints the sum of the squares of the integers from 1 to 10 to the power of 4. It's better not to ask why in these cases.\n",
    "\n",
    "#### Write a programme that makes management happy:"
   ]
  },
  {
   "cell_type": "code",
   "execution_count": 193,
   "metadata": {},
   "outputs": [
    {
     "name": "stdout",
     "output_type": "stream",
     "text": [
      "333383335000\n"
     ]
    }
   ],
   "source": [
    "#first i create a variable for the sum of the squares\n",
    "Sum=0\n",
    "#I create a lopp from to chek from 1 to 10 to the power of 4\n",
    "for x in range(1,(10**4)+1):\n",
    "#I then ask the code to calculate the sum by adding x value squared to every sum every time the loop runs\n",
    "        Sum=x**2+Sum\n",
    "#finaly i print the sum\n",
    "print(Sum)"
   ]
  },
  {
   "cell_type": "markdown",
   "metadata": {},
   "source": []
  },
  {
   "cell_type": "markdown",
   "metadata": {},
   "source": [
    "## Task 8: More Important Calculations\n",
    "\n",
    "The *while-loop* (or indefinite loop) runs continuously until a certain condition is met. For example, the while-loop may run a block of code that checks the email server for new messages and will stop only after an email has arrived.\n",
    "\n",
    "Some code to help you get started:"
   ]
  },
  {
   "cell_type": "code",
   "execution_count": null,
   "metadata": {},
   "outputs": [],
   "source": [
    "# Define the `count` variable\n",
    "count = 0\n",
    "\n",
    "# After the `while` keyword, define the condition that must \n",
    "# evaluate to `True` for the following indented block of code to be executed\n",
    "while count < 5:\n",
    "    # if the condition is met (`count` is less than 5, execute the indented lines below)\n",
    "    \n",
    "    # print the value of `count`\n",
    "    print(count)\n",
    "    \n",
    "    # increment `count` by 1\n",
    "    count += 1\n",
    "    \n",
    "    # return to the line with the `while` keyword and check the condition again\n",
    "    # if the condition is not met (`count` is no longer less than 5), then the loop exits\n",
    "\n",
    "# after the loop has exited, the first non-indented line is executed\n",
    "print(\"Done.\")"
   ]
  },
  {
   "cell_type": "markdown",
   "metadata": {},
   "source": [
    "#### Write a programme to enter a number from the user and count the number of digits in the given integer using a **while** loop.\n",
    "*Hint: think floor-division here.*"
   ]
  },
  {
   "cell_type": "code",
   "execution_count": 140,
   "metadata": {},
   "outputs": [
    {
     "name": "stdout",
     "output_type": "stream",
     "text": [
      "write your number here300\n",
      "3\n"
     ]
    }
   ],
   "source": [
    "#I start by creating an input value (x) a counter to be multiplied by 10 every time the loop runs (y)\n",
    "#and a counter to count each digit (z) \n",
    "x=int(input('write your number here'))\n",
    "y=1\n",
    "z=0\n",
    "\n",
    "#then i create a while loop to du floor division of x and y as long as the end value is larger then 0\n",
    "while x//y>0:\n",
    "#every time the loop runs i multiply y by 10 to figure out how many digits are in the input value (x)\n",
    "    y=y*10\n",
    "#z counts the amount of times we are able to floor devide x by why until the product gets lower than 0\n",
    "    z=z+1\n",
    "#finally i print z after the loop is done\n",
    "print(z)\n",
    "    \n",
    "\n",
    "\n"
   ]
  },
  {
   "cell_type": "markdown",
   "metadata": {},
   "source": []
  },
  {
   "cell_type": "markdown",
   "metadata": {},
   "source": [
    "Now write a programme that displays the following sequence of symbols:\n",
    "\n",
    "`\n",
    "+\n",
    "++\n",
    "+++\n",
    "++++\n",
    "+++++\n",
    "++++++\n",
    "+++++++\n",
    "`"
   ]
  },
  {
   "cell_type": "code",
   "execution_count": 198,
   "metadata": {},
   "outputs": [
    {
     "name": "stdout",
     "output_type": "stream",
     "text": [
      " +\n",
      "++\n",
      "+++\n",
      "++++\n",
      "+++++\n",
      "++++++\n",
      "+++++++\n"
     ]
    }
   ],
   "source": [
    "#first i ad + with a space to get the exact same form as you got\n",
    "print(' +')\n",
    "#First i create a for loop for x in the range of 1 to 8 since we need 7 digitgs or 7 time +\n",
    "for x in range (2,8):\n",
    "#i the ask the loop to multiplie x with + every time the loop runs\n",
    "#this works since multipling a string wil add it (like 2*4=2+2+2+2)\n",
    "    print(x*'+')"
   ]
  },
  {
   "cell_type": "markdown",
   "metadata": {},
   "source": []
  },
  {
   "cell_type": "markdown",
   "metadata": {},
   "source": [
    "## Task 9: Even More Important Calculations\n",
    "\n",
    "Write a programme to check whether a number is divisible by 3 **and** 13 or not. Show an appropriate message for each case.  "
   ]
  },
  {
   "cell_type": "code",
   "execution_count": 179,
   "metadata": {},
   "outputs": [
    {
     "name": "stdout",
     "output_type": "stream",
     "text": [
      "write a number here:39\n",
      "39 is devisable with 3 and 13\n"
     ]
    }
   ],
   "source": [
    "#first i create an input vairable\n",
    "x=int(input('write a number here:'))\n",
    "#then i create an if statement which demands that the input is divisible with 3 and 13\n",
    "if x%3 == 0 and x%13 == 0:\n",
    "#if the if sentence is forfiled the following is printed\n",
    "    print(x,'is devisable with 3 and 13')\n",
    "#i then create an else statement which tells what gets printed out if the if statement is not forfilled    \n",
    "else:\n",
    "     print(x, 'is not devisable with 3 and 13')\n",
    "        \n",
    "        \n",
    "    "
   ]
  },
  {
   "cell_type": "markdown",
   "metadata": {},
   "source": []
  },
  {
   "cell_type": "markdown",
   "metadata": {},
   "source": [
    "## Task 10: Advice from a Caterpillar\n",
    "\n",
    "And finally:\n",
    "\n",
    "![](https://upload.wikimedia.org/wikipedia/commons/thumb/5/53/Alice_05a-1116x1492.jpg/440px-Alice_05a-1116x1492.jpg)\n",
    "\n",
    "This Hookah-Smoking Caterpillar is exactly **three inches** high.\n",
    "\n",
    "#### Write a programme that gets the height in inches for various hookah-smoking caterpillars and returns their height in centimeters.\n",
    "*Hint: one inch is 2.54 centimeters*\n",
    "\n",
    "**Bonus**: Can you do it in one line?  \n",
    "Don't forget to explain your code."
   ]
  },
  {
   "cell_type": "code",
   "execution_count": 186,
   "metadata": {},
   "outputs": [
    {
     "name": "stdout",
     "output_type": "stream",
     "text": [
      "put the height of any smoking caterpillar inches3\n",
      "7.62\n"
     ]
    }
   ],
   "source": [
    "#The equation is as follows (height in inches * cm per inch)\n",
    "#i then replace the \"height in inches\" with an input variable and ask the code to print it\n",
    "print(int(input('put the height of any smoking caterpillar inches'))*2.54)\n"
   ]
  },
  {
   "cell_type": "markdown",
   "metadata": {},
   "source": []
  }
 ],
 "metadata": {
  "kernelspec": {
   "display_name": "Python 3",
   "language": "python",
   "name": "python3"
  },
  "language_info": {
   "codemirror_mode": {
    "name": "ipython",
    "version": 3
   },
   "file_extension": ".py",
   "mimetype": "text/x-python",
   "name": "python",
   "nbconvert_exporter": "python",
   "pygments_lexer": "ipython3",
   "version": "3.8.8"
  }
 },
 "nbformat": 4,
 "nbformat_minor": 4
}
